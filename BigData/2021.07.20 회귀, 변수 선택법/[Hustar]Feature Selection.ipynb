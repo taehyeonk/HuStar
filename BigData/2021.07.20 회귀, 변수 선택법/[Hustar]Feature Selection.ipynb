{
 "cells": [
  {
   "cell_type": "markdown",
   "metadata": {},
   "source": [
    "# 변수 선택법"
   ]
  },
  {
   "cell_type": "markdown",
   "metadata": {},
   "source": [
    "<a id= '0'></a>"
   ]
  },
  {
   "cell_type": "markdown",
   "metadata": {},
   "source": [
    "## Table of contents    \n",
    "1. [회귀분석 과제 리뷰](#1)   \n",
    "2. [VIF](#2)  \n",
    "3. [정성적 방안: 변수선택법 활용](#3)\n",
    "4. [기술적 방안](#4)\n",
    "5. [Adjusted $R^2$](#5)\n",
    "6. [명목형 변수 처리](#6)"
   ]
  },
  {
   "cell_type": "markdown",
   "metadata": {},
   "source": [
    "<a id= '1'></a>"
   ]
  },
  {
   "cell_type": "markdown",
   "metadata": {},
   "source": [
    "## [회귀분석 과제 리뷰](#0)"
   ]
  },
  {
   "cell_type": "code",
   "execution_count": 1,
   "metadata": {},
   "outputs": [],
   "source": [
    "import numpy as np\n",
    "import pandas as pd\n",
    "from sklearn.linear_model import LinearRegression\n",
    "from sklearn.metrics import mean_squared_error\n",
    "from sklearn.model_selection import train_test_split\n",
    "from sklearn.model_selection import cross_val_score\n",
    "\n",
    "\n",
    "import matplotlib.pyplot as plt\n",
    "import seaborn as sns"
   ]
  },
  {
   "cell_type": "code",
   "execution_count": 2,
   "metadata": {},
   "outputs": [
    {
     "data": {
      "text/html": [
       "<div>\n",
       "<style scoped>\n",
       "    .dataframe tbody tr th:only-of-type {\n",
       "        vertical-align: middle;\n",
       "    }\n",
       "\n",
       "    .dataframe tbody tr th {\n",
       "        vertical-align: top;\n",
       "    }\n",
       "\n",
       "    .dataframe thead th {\n",
       "        text-align: right;\n",
       "    }\n",
       "</style>\n",
       "<table border=\"1\" class=\"dataframe\">\n",
       "  <thead>\n",
       "    <tr style=\"text-align: right;\">\n",
       "      <th></th>\n",
       "      <th>AGE</th>\n",
       "      <th>B</th>\n",
       "      <th>RM</th>\n",
       "      <th>CRIM</th>\n",
       "      <th>DIS</th>\n",
       "      <th>INDUS</th>\n",
       "      <th>LSTAT</th>\n",
       "      <th>NOX</th>\n",
       "      <th>PTRATIO</th>\n",
       "      <th>RAD</th>\n",
       "      <th>ZN</th>\n",
       "      <th>TAX</th>\n",
       "      <th>CHAS</th>\n",
       "      <th>Target</th>\n",
       "    </tr>\n",
       "  </thead>\n",
       "  <tbody>\n",
       "    <tr>\n",
       "      <th>0</th>\n",
       "      <td>65.2</td>\n",
       "      <td>396.90</td>\n",
       "      <td>6.575</td>\n",
       "      <td>0.00632</td>\n",
       "      <td>4.0900</td>\n",
       "      <td>2.31</td>\n",
       "      <td>4.98</td>\n",
       "      <td>0.538</td>\n",
       "      <td>15.3</td>\n",
       "      <td>1</td>\n",
       "      <td>18.0</td>\n",
       "      <td>296</td>\n",
       "      <td>0</td>\n",
       "      <td>24.0</td>\n",
       "    </tr>\n",
       "    <tr>\n",
       "      <th>1</th>\n",
       "      <td>78.9</td>\n",
       "      <td>396.90</td>\n",
       "      <td>6.421</td>\n",
       "      <td>0.02731</td>\n",
       "      <td>4.9671</td>\n",
       "      <td>7.07</td>\n",
       "      <td>9.14</td>\n",
       "      <td>0.469</td>\n",
       "      <td>17.8</td>\n",
       "      <td>2</td>\n",
       "      <td>0.0</td>\n",
       "      <td>242</td>\n",
       "      <td>0</td>\n",
       "      <td>21.6</td>\n",
       "    </tr>\n",
       "    <tr>\n",
       "      <th>2</th>\n",
       "      <td>61.1</td>\n",
       "      <td>392.83</td>\n",
       "      <td>7.185</td>\n",
       "      <td>0.02729</td>\n",
       "      <td>4.9671</td>\n",
       "      <td>7.07</td>\n",
       "      <td>4.03</td>\n",
       "      <td>0.469</td>\n",
       "      <td>17.8</td>\n",
       "      <td>2</td>\n",
       "      <td>0.0</td>\n",
       "      <td>242</td>\n",
       "      <td>0</td>\n",
       "      <td>34.7</td>\n",
       "    </tr>\n",
       "    <tr>\n",
       "      <th>3</th>\n",
       "      <td>45.8</td>\n",
       "      <td>394.63</td>\n",
       "      <td>6.998</td>\n",
       "      <td>0.03237</td>\n",
       "      <td>6.0622</td>\n",
       "      <td>2.18</td>\n",
       "      <td>2.94</td>\n",
       "      <td>0.458</td>\n",
       "      <td>18.7</td>\n",
       "      <td>3</td>\n",
       "      <td>0.0</td>\n",
       "      <td>222</td>\n",
       "      <td>0</td>\n",
       "      <td>33.4</td>\n",
       "    </tr>\n",
       "    <tr>\n",
       "      <th>4</th>\n",
       "      <td>54.2</td>\n",
       "      <td>396.90</td>\n",
       "      <td>7.147</td>\n",
       "      <td>0.06905</td>\n",
       "      <td>6.0622</td>\n",
       "      <td>2.18</td>\n",
       "      <td>5.33</td>\n",
       "      <td>0.458</td>\n",
       "      <td>18.7</td>\n",
       "      <td>3</td>\n",
       "      <td>0.0</td>\n",
       "      <td>222</td>\n",
       "      <td>0</td>\n",
       "      <td>36.2</td>\n",
       "    </tr>\n",
       "  </tbody>\n",
       "</table>\n",
       "</div>"
      ],
      "text/plain": [
       "    AGE       B     RM     CRIM     DIS  INDUS  LSTAT    NOX  PTRATIO  RAD  \\\n",
       "0  65.2  396.90  6.575  0.00632  4.0900   2.31   4.98  0.538     15.3    1   \n",
       "1  78.9  396.90  6.421  0.02731  4.9671   7.07   9.14  0.469     17.8    2   \n",
       "2  61.1  392.83  7.185  0.02729  4.9671   7.07   4.03  0.469     17.8    2   \n",
       "3  45.8  394.63  6.998  0.03237  6.0622   2.18   2.94  0.458     18.7    3   \n",
       "4  54.2  396.90  7.147  0.06905  6.0622   2.18   5.33  0.458     18.7    3   \n",
       "\n",
       "     ZN  TAX  CHAS  Target  \n",
       "0  18.0  296     0    24.0  \n",
       "1   0.0  242     0    21.6  \n",
       "2   0.0  242     0    34.7  \n",
       "3   0.0  222     0    33.4  \n",
       "4   0.0  222     0    36.2  "
      ]
     },
     "execution_count": 2,
     "metadata": {},
     "output_type": "execute_result"
    }
   ],
   "source": [
    "df = pd.read_csv('Boston_house.csv')\n",
    "df.head()"
   ]
  },
  {
   "cell_type": "code",
   "execution_count": 3,
   "metadata": {},
   "outputs": [
    {
     "name": "stdout",
     "output_type": "stream",
     "text": [
      "<class 'pandas.core.frame.DataFrame'>\n",
      "RangeIndex: 506 entries, 0 to 505\n",
      "Data columns (total 14 columns):\n",
      " #   Column   Non-Null Count  Dtype  \n",
      "---  ------   --------------  -----  \n",
      " 0   AGE      506 non-null    float64\n",
      " 1   B        506 non-null    float64\n",
      " 2   RM       506 non-null    float64\n",
      " 3   CRIM     506 non-null    float64\n",
      " 4   DIS      506 non-null    float64\n",
      " 5   INDUS    506 non-null    float64\n",
      " 6   LSTAT    506 non-null    float64\n",
      " 7   NOX      506 non-null    float64\n",
      " 8   PTRATIO  506 non-null    float64\n",
      " 9   RAD      506 non-null    int64  \n",
      " 10  ZN       506 non-null    float64\n",
      " 11  TAX      506 non-null    int64  \n",
      " 12  CHAS     506 non-null    int64  \n",
      " 13  Target   506 non-null    float64\n",
      "dtypes: float64(11), int64(3)\n",
      "memory usage: 55.5 KB\n"
     ]
    }
   ],
   "source": [
    "df.info()"
   ]
  },
  {
   "cell_type": "code",
   "execution_count": 4,
   "metadata": {},
   "outputs": [
    {
     "data": {
      "text/html": [
       "<div>\n",
       "<style scoped>\n",
       "    .dataframe tbody tr th:only-of-type {\n",
       "        vertical-align: middle;\n",
       "    }\n",
       "\n",
       "    .dataframe tbody tr th {\n",
       "        vertical-align: top;\n",
       "    }\n",
       "\n",
       "    .dataframe thead th {\n",
       "        text-align: right;\n",
       "    }\n",
       "</style>\n",
       "<table border=\"1\" class=\"dataframe\">\n",
       "  <thead>\n",
       "    <tr style=\"text-align: right;\">\n",
       "      <th></th>\n",
       "      <th>AGE</th>\n",
       "      <th>B</th>\n",
       "      <th>RM</th>\n",
       "      <th>CRIM</th>\n",
       "      <th>DIS</th>\n",
       "      <th>INDUS</th>\n",
       "      <th>LSTAT</th>\n",
       "      <th>NOX</th>\n",
       "      <th>PTRATIO</th>\n",
       "      <th>RAD</th>\n",
       "      <th>ZN</th>\n",
       "      <th>TAX</th>\n",
       "      <th>CHAS</th>\n",
       "      <th>Target</th>\n",
       "    </tr>\n",
       "  </thead>\n",
       "  <tbody>\n",
       "    <tr>\n",
       "      <th>count</th>\n",
       "      <td>506.000000</td>\n",
       "      <td>506.000000</td>\n",
       "      <td>506.000000</td>\n",
       "      <td>506.000000</td>\n",
       "      <td>506.000000</td>\n",
       "      <td>506.000000</td>\n",
       "      <td>506.000000</td>\n",
       "      <td>506.000000</td>\n",
       "      <td>506.000000</td>\n",
       "      <td>506.000000</td>\n",
       "      <td>506.000000</td>\n",
       "      <td>506.000000</td>\n",
       "      <td>506.000000</td>\n",
       "      <td>506.000000</td>\n",
       "    </tr>\n",
       "    <tr>\n",
       "      <th>mean</th>\n",
       "      <td>68.574901</td>\n",
       "      <td>356.674032</td>\n",
       "      <td>6.284634</td>\n",
       "      <td>3.613524</td>\n",
       "      <td>3.795043</td>\n",
       "      <td>11.136779</td>\n",
       "      <td>12.653063</td>\n",
       "      <td>0.554695</td>\n",
       "      <td>18.455534</td>\n",
       "      <td>9.549407</td>\n",
       "      <td>11.363636</td>\n",
       "      <td>408.237154</td>\n",
       "      <td>0.069170</td>\n",
       "      <td>22.532806</td>\n",
       "    </tr>\n",
       "    <tr>\n",
       "      <th>std</th>\n",
       "      <td>28.148861</td>\n",
       "      <td>91.294864</td>\n",
       "      <td>0.702617</td>\n",
       "      <td>8.601545</td>\n",
       "      <td>2.105710</td>\n",
       "      <td>6.860353</td>\n",
       "      <td>7.141062</td>\n",
       "      <td>0.115878</td>\n",
       "      <td>2.164946</td>\n",
       "      <td>8.707259</td>\n",
       "      <td>23.322453</td>\n",
       "      <td>168.537116</td>\n",
       "      <td>0.253994</td>\n",
       "      <td>9.197104</td>\n",
       "    </tr>\n",
       "    <tr>\n",
       "      <th>min</th>\n",
       "      <td>2.900000</td>\n",
       "      <td>0.320000</td>\n",
       "      <td>3.561000</td>\n",
       "      <td>0.006320</td>\n",
       "      <td>1.129600</td>\n",
       "      <td>0.460000</td>\n",
       "      <td>1.730000</td>\n",
       "      <td>0.385000</td>\n",
       "      <td>12.600000</td>\n",
       "      <td>1.000000</td>\n",
       "      <td>0.000000</td>\n",
       "      <td>187.000000</td>\n",
       "      <td>0.000000</td>\n",
       "      <td>5.000000</td>\n",
       "    </tr>\n",
       "    <tr>\n",
       "      <th>25%</th>\n",
       "      <td>45.025000</td>\n",
       "      <td>375.377500</td>\n",
       "      <td>5.885500</td>\n",
       "      <td>0.082045</td>\n",
       "      <td>2.100175</td>\n",
       "      <td>5.190000</td>\n",
       "      <td>6.950000</td>\n",
       "      <td>0.449000</td>\n",
       "      <td>17.400000</td>\n",
       "      <td>4.000000</td>\n",
       "      <td>0.000000</td>\n",
       "      <td>279.000000</td>\n",
       "      <td>0.000000</td>\n",
       "      <td>17.025000</td>\n",
       "    </tr>\n",
       "    <tr>\n",
       "      <th>50%</th>\n",
       "      <td>77.500000</td>\n",
       "      <td>391.440000</td>\n",
       "      <td>6.208500</td>\n",
       "      <td>0.256510</td>\n",
       "      <td>3.207450</td>\n",
       "      <td>9.690000</td>\n",
       "      <td>11.360000</td>\n",
       "      <td>0.538000</td>\n",
       "      <td>19.050000</td>\n",
       "      <td>5.000000</td>\n",
       "      <td>0.000000</td>\n",
       "      <td>330.000000</td>\n",
       "      <td>0.000000</td>\n",
       "      <td>21.200000</td>\n",
       "    </tr>\n",
       "    <tr>\n",
       "      <th>75%</th>\n",
       "      <td>94.075000</td>\n",
       "      <td>396.225000</td>\n",
       "      <td>6.623500</td>\n",
       "      <td>3.677082</td>\n",
       "      <td>5.188425</td>\n",
       "      <td>18.100000</td>\n",
       "      <td>16.955000</td>\n",
       "      <td>0.624000</td>\n",
       "      <td>20.200000</td>\n",
       "      <td>24.000000</td>\n",
       "      <td>12.500000</td>\n",
       "      <td>666.000000</td>\n",
       "      <td>0.000000</td>\n",
       "      <td>25.000000</td>\n",
       "    </tr>\n",
       "    <tr>\n",
       "      <th>max</th>\n",
       "      <td>100.000000</td>\n",
       "      <td>396.900000</td>\n",
       "      <td>8.780000</td>\n",
       "      <td>88.976200</td>\n",
       "      <td>12.126500</td>\n",
       "      <td>27.740000</td>\n",
       "      <td>37.970000</td>\n",
       "      <td>0.871000</td>\n",
       "      <td>22.000000</td>\n",
       "      <td>24.000000</td>\n",
       "      <td>100.000000</td>\n",
       "      <td>711.000000</td>\n",
       "      <td>1.000000</td>\n",
       "      <td>50.000000</td>\n",
       "    </tr>\n",
       "  </tbody>\n",
       "</table>\n",
       "</div>"
      ],
      "text/plain": [
       "              AGE           B          RM        CRIM         DIS       INDUS  \\\n",
       "count  506.000000  506.000000  506.000000  506.000000  506.000000  506.000000   \n",
       "mean    68.574901  356.674032    6.284634    3.613524    3.795043   11.136779   \n",
       "std     28.148861   91.294864    0.702617    8.601545    2.105710    6.860353   \n",
       "min      2.900000    0.320000    3.561000    0.006320    1.129600    0.460000   \n",
       "25%     45.025000  375.377500    5.885500    0.082045    2.100175    5.190000   \n",
       "50%     77.500000  391.440000    6.208500    0.256510    3.207450    9.690000   \n",
       "75%     94.075000  396.225000    6.623500    3.677082    5.188425   18.100000   \n",
       "max    100.000000  396.900000    8.780000   88.976200   12.126500   27.740000   \n",
       "\n",
       "            LSTAT         NOX     PTRATIO         RAD          ZN         TAX  \\\n",
       "count  506.000000  506.000000  506.000000  506.000000  506.000000  506.000000   \n",
       "mean    12.653063    0.554695   18.455534    9.549407   11.363636  408.237154   \n",
       "std      7.141062    0.115878    2.164946    8.707259   23.322453  168.537116   \n",
       "min      1.730000    0.385000   12.600000    1.000000    0.000000  187.000000   \n",
       "25%      6.950000    0.449000   17.400000    4.000000    0.000000  279.000000   \n",
       "50%     11.360000    0.538000   19.050000    5.000000    0.000000  330.000000   \n",
       "75%     16.955000    0.624000   20.200000   24.000000   12.500000  666.000000   \n",
       "max     37.970000    0.871000   22.000000   24.000000  100.000000  711.000000   \n",
       "\n",
       "             CHAS      Target  \n",
       "count  506.000000  506.000000  \n",
       "mean     0.069170   22.532806  \n",
       "std      0.253994    9.197104  \n",
       "min      0.000000    5.000000  \n",
       "25%      0.000000   17.025000  \n",
       "50%      0.000000   21.200000  \n",
       "75%      0.000000   25.000000  \n",
       "max      1.000000   50.000000  "
      ]
     },
     "execution_count": 4,
     "metadata": {},
     "output_type": "execute_result"
    }
   ],
   "source": [
    "df.describe()"
   ]
  },
  {
   "cell_type": "code",
   "execution_count": 5,
   "metadata": {},
   "outputs": [
    {
     "data": {
      "text/plain": [
       "AGE        0\n",
       "B          0\n",
       "RM         0\n",
       "CRIM       0\n",
       "DIS        0\n",
       "INDUS      0\n",
       "LSTAT      0\n",
       "NOX        0\n",
       "PTRATIO    0\n",
       "RAD        0\n",
       "ZN         0\n",
       "TAX        0\n",
       "CHAS       0\n",
       "Target     0\n",
       "dtype: int64"
      ]
     },
     "execution_count": 5,
     "metadata": {},
     "output_type": "execute_result"
    }
   ],
   "source": [
    "df.isnull().sum()"
   ]
  },
  {
   "cell_type": "code",
   "execution_count": 6,
   "metadata": {},
   "outputs": [],
   "source": [
    "# input과 output을 정의\n",
    "Input= df.iloc[:,:-1]\n",
    "Output = df.iloc[:,-1]\n",
    "\n",
    "# pandas -> numpy\n",
    "X = Input.values\n",
    "y = Output.values"
   ]
  },
  {
   "cell_type": "code",
   "execution_count": 7,
   "metadata": {},
   "outputs": [
    {
     "data": {
      "text/plain": [
       "LinearRegression()"
      ]
     },
     "execution_count": 7,
     "metadata": {},
     "output_type": "execute_result"
    }
   ],
   "source": [
    "# regression model 생성 및 학습\n",
    "rl = LinearRegression()\n",
    "rl.fit(X,y)"
   ]
  },
  {
   "cell_type": "code",
   "execution_count": 8,
   "metadata": {},
   "outputs": [],
   "source": [
    "# prediction\n",
    "y_hat = rl.predict(Input)"
   ]
  },
  {
   "cell_type": "code",
   "execution_count": 9,
   "metadata": {},
   "outputs": [
    {
     "name": "stdout",
     "output_type": "stream",
     "text": [
      "기울기:  [ 6.92224640e-04  9.31168327e-03  3.80986521e+00 -1.08011358e-01\n",
      " -1.47556685e+00  2.05586264e-02 -5.24758378e-01 -1.77666112e+01\n",
      " -9.52747232e-01  3.06049479e-01  4.64204584e-02 -1.23345939e-02\n",
      "  2.68673382e+00]\n",
      "절편: 36.4594883850895\n",
      "R^2:  0.7406426641094095\n",
      "MSE:  21.894831181729202\n"
     ]
    }
   ],
   "source": [
    "print('기울기: ',rl.coef_)\n",
    "print('절편:', rl.intercept_)\n",
    "print('R^2: ', rl.score(X, y))\n",
    "print('MSE: ', mean_squared_error(y,y_hat))"
   ]
  },
  {
   "cell_type": "code",
   "execution_count": 10,
   "metadata": {},
   "outputs": [],
   "source": [
    "# 모델 평가를 위해 처음부터 train과 test를 나눠서 모델링하는 게 더 바람직함.\n",
    "# train-test split\n",
    "X_train, X_test, y_train, y_test = train_test_split(X,\n",
    "                                                    y,\n",
    "                                                    test_size=0.2,\n",
    "                                                    random_state=1004)"
   ]
  },
  {
   "cell_type": "code",
   "execution_count": 11,
   "metadata": {},
   "outputs": [
    {
     "name": "stdout",
     "output_type": "stream",
     "text": [
      "X_train shape: (404, 13)\n",
      "X_test shape: (102, 13)\n",
      "y_train shape: (404,)\n",
      "y_test shape: (102,)\n"
     ]
    }
   ],
   "source": [
    "print('X_train shape:', X_train.shape)\n",
    "print('X_test shape:', X_test.shape)\n",
    "print('y_train shape:', y_train.shape)\n",
    "print('y_test shape:', y_test.shape)"
   ]
  },
  {
   "cell_type": "code",
   "execution_count": 12,
   "metadata": {},
   "outputs": [
    {
     "name": "stdout",
     "output_type": "stream",
     "text": [
      "train셋 MSE:  22.928871857314128\n",
      "train셋 R^2:  0.7282123460763663\n",
      "******************************\n",
      "test셋 MSE: 19.450267341373568\n",
      "test셋 R^2:  0.769597719161\n"
     ]
    }
   ],
   "source": [
    "# train set만을 이용해서 모형 학습\n",
    "rl= LinearRegression()\n",
    "rl.fit(X_train, y_train)\n",
    "# train set에서의 성능\n",
    "y_train_hat = rl.predict(X_train)\n",
    "print('train셋 MSE: ', mean_squared_error(y_train,y_train_hat))\n",
    "print('train셋 R^2: ', rl.score(X_train, y_train))\n",
    "# test set에서의 성능\n",
    "y_test_hat = rl.predict(X_test)\n",
    "print('*' *30)\n",
    "print('test셋 MSE:', mean_squared_error(y_test,y_test_hat))\n",
    "print('test셋 R^2: ', rl.score(X_test, y_test))"
   ]
  },
  {
   "cell_type": "markdown",
   "metadata": {},
   "source": [
    "### 과연 13개의 독립변수를 모두 사용하는 것이 성능이 좋을까?"
   ]
  },
  {
   "cell_type": "markdown",
   "metadata": {},
   "source": [
    "#### Q1. 독립변수간의 상관관계가 있지 않을까?"
   ]
  },
  {
   "cell_type": "code",
   "execution_count": 13,
   "metadata": {},
   "outputs": [
    {
     "data": {
      "text/html": [
       "<div>\n",
       "<style scoped>\n",
       "    .dataframe tbody tr th:only-of-type {\n",
       "        vertical-align: middle;\n",
       "    }\n",
       "\n",
       "    .dataframe tbody tr th {\n",
       "        vertical-align: top;\n",
       "    }\n",
       "\n",
       "    .dataframe thead th {\n",
       "        text-align: right;\n",
       "    }\n",
       "</style>\n",
       "<table border=\"1\" class=\"dataframe\">\n",
       "  <thead>\n",
       "    <tr style=\"text-align: right;\">\n",
       "      <th></th>\n",
       "      <th>AGE</th>\n",
       "      <th>B</th>\n",
       "      <th>RM</th>\n",
       "      <th>CRIM</th>\n",
       "      <th>DIS</th>\n",
       "      <th>INDUS</th>\n",
       "      <th>LSTAT</th>\n",
       "      <th>NOX</th>\n",
       "      <th>PTRATIO</th>\n",
       "      <th>RAD</th>\n",
       "      <th>ZN</th>\n",
       "      <th>TAX</th>\n",
       "      <th>CHAS</th>\n",
       "      <th>Target</th>\n",
       "    </tr>\n",
       "  </thead>\n",
       "  <tbody>\n",
       "    <tr>\n",
       "      <th>AGE</th>\n",
       "      <td>1.000000</td>\n",
       "      <td>-0.273534</td>\n",
       "      <td>-0.240265</td>\n",
       "      <td>0.352734</td>\n",
       "      <td>-0.747881</td>\n",
       "      <td>0.644779</td>\n",
       "      <td>0.602339</td>\n",
       "      <td>0.731470</td>\n",
       "      <td>0.261515</td>\n",
       "      <td>0.456022</td>\n",
       "      <td>-0.569537</td>\n",
       "      <td>0.506456</td>\n",
       "      <td>0.086518</td>\n",
       "      <td>-0.376955</td>\n",
       "    </tr>\n",
       "    <tr>\n",
       "      <th>B</th>\n",
       "      <td>-0.273534</td>\n",
       "      <td>1.000000</td>\n",
       "      <td>0.128069</td>\n",
       "      <td>-0.385064</td>\n",
       "      <td>0.291512</td>\n",
       "      <td>-0.356977</td>\n",
       "      <td>-0.366087</td>\n",
       "      <td>-0.380051</td>\n",
       "      <td>-0.177383</td>\n",
       "      <td>-0.444413</td>\n",
       "      <td>0.175520</td>\n",
       "      <td>-0.441808</td>\n",
       "      <td>0.048788</td>\n",
       "      <td>0.333461</td>\n",
       "    </tr>\n",
       "    <tr>\n",
       "      <th>RM</th>\n",
       "      <td>-0.240265</td>\n",
       "      <td>0.128069</td>\n",
       "      <td>1.000000</td>\n",
       "      <td>-0.219247</td>\n",
       "      <td>0.205246</td>\n",
       "      <td>-0.391676</td>\n",
       "      <td>-0.613808</td>\n",
       "      <td>-0.302188</td>\n",
       "      <td>-0.355501</td>\n",
       "      <td>-0.209847</td>\n",
       "      <td>0.311991</td>\n",
       "      <td>-0.292048</td>\n",
       "      <td>0.091251</td>\n",
       "      <td>0.695360</td>\n",
       "    </tr>\n",
       "    <tr>\n",
       "      <th>CRIM</th>\n",
       "      <td>0.352734</td>\n",
       "      <td>-0.385064</td>\n",
       "      <td>-0.219247</td>\n",
       "      <td>1.000000</td>\n",
       "      <td>-0.379670</td>\n",
       "      <td>0.406583</td>\n",
       "      <td>0.455621</td>\n",
       "      <td>0.420972</td>\n",
       "      <td>0.289946</td>\n",
       "      <td>0.625505</td>\n",
       "      <td>-0.200469</td>\n",
       "      <td>0.582764</td>\n",
       "      <td>-0.055892</td>\n",
       "      <td>-0.388305</td>\n",
       "    </tr>\n",
       "    <tr>\n",
       "      <th>DIS</th>\n",
       "      <td>-0.747881</td>\n",
       "      <td>0.291512</td>\n",
       "      <td>0.205246</td>\n",
       "      <td>-0.379670</td>\n",
       "      <td>1.000000</td>\n",
       "      <td>-0.708027</td>\n",
       "      <td>-0.496996</td>\n",
       "      <td>-0.769230</td>\n",
       "      <td>-0.232471</td>\n",
       "      <td>-0.494588</td>\n",
       "      <td>0.664408</td>\n",
       "      <td>-0.534432</td>\n",
       "      <td>-0.099176</td>\n",
       "      <td>0.249929</td>\n",
       "    </tr>\n",
       "    <tr>\n",
       "      <th>INDUS</th>\n",
       "      <td>0.644779</td>\n",
       "      <td>-0.356977</td>\n",
       "      <td>-0.391676</td>\n",
       "      <td>0.406583</td>\n",
       "      <td>-0.708027</td>\n",
       "      <td>1.000000</td>\n",
       "      <td>0.603800</td>\n",
       "      <td>0.763651</td>\n",
       "      <td>0.383248</td>\n",
       "      <td>0.595129</td>\n",
       "      <td>-0.533828</td>\n",
       "      <td>0.720760</td>\n",
       "      <td>0.062938</td>\n",
       "      <td>-0.483725</td>\n",
       "    </tr>\n",
       "    <tr>\n",
       "      <th>LSTAT</th>\n",
       "      <td>0.602339</td>\n",
       "      <td>-0.366087</td>\n",
       "      <td>-0.613808</td>\n",
       "      <td>0.455621</td>\n",
       "      <td>-0.496996</td>\n",
       "      <td>0.603800</td>\n",
       "      <td>1.000000</td>\n",
       "      <td>0.590879</td>\n",
       "      <td>0.374044</td>\n",
       "      <td>0.488676</td>\n",
       "      <td>-0.412995</td>\n",
       "      <td>0.543993</td>\n",
       "      <td>-0.053929</td>\n",
       "      <td>-0.737663</td>\n",
       "    </tr>\n",
       "    <tr>\n",
       "      <th>NOX</th>\n",
       "      <td>0.731470</td>\n",
       "      <td>-0.380051</td>\n",
       "      <td>-0.302188</td>\n",
       "      <td>0.420972</td>\n",
       "      <td>-0.769230</td>\n",
       "      <td>0.763651</td>\n",
       "      <td>0.590879</td>\n",
       "      <td>1.000000</td>\n",
       "      <td>0.188933</td>\n",
       "      <td>0.611441</td>\n",
       "      <td>-0.516604</td>\n",
       "      <td>0.668023</td>\n",
       "      <td>0.091203</td>\n",
       "      <td>-0.427321</td>\n",
       "    </tr>\n",
       "    <tr>\n",
       "      <th>PTRATIO</th>\n",
       "      <td>0.261515</td>\n",
       "      <td>-0.177383</td>\n",
       "      <td>-0.355501</td>\n",
       "      <td>0.289946</td>\n",
       "      <td>-0.232471</td>\n",
       "      <td>0.383248</td>\n",
       "      <td>0.374044</td>\n",
       "      <td>0.188933</td>\n",
       "      <td>1.000000</td>\n",
       "      <td>0.464741</td>\n",
       "      <td>-0.391679</td>\n",
       "      <td>0.460853</td>\n",
       "      <td>-0.121515</td>\n",
       "      <td>-0.507787</td>\n",
       "    </tr>\n",
       "    <tr>\n",
       "      <th>RAD</th>\n",
       "      <td>0.456022</td>\n",
       "      <td>-0.444413</td>\n",
       "      <td>-0.209847</td>\n",
       "      <td>0.625505</td>\n",
       "      <td>-0.494588</td>\n",
       "      <td>0.595129</td>\n",
       "      <td>0.488676</td>\n",
       "      <td>0.611441</td>\n",
       "      <td>0.464741</td>\n",
       "      <td>1.000000</td>\n",
       "      <td>-0.311948</td>\n",
       "      <td>0.910228</td>\n",
       "      <td>-0.007368</td>\n",
       "      <td>-0.381626</td>\n",
       "    </tr>\n",
       "    <tr>\n",
       "      <th>ZN</th>\n",
       "      <td>-0.569537</td>\n",
       "      <td>0.175520</td>\n",
       "      <td>0.311991</td>\n",
       "      <td>-0.200469</td>\n",
       "      <td>0.664408</td>\n",
       "      <td>-0.533828</td>\n",
       "      <td>-0.412995</td>\n",
       "      <td>-0.516604</td>\n",
       "      <td>-0.391679</td>\n",
       "      <td>-0.311948</td>\n",
       "      <td>1.000000</td>\n",
       "      <td>-0.314563</td>\n",
       "      <td>-0.042697</td>\n",
       "      <td>0.360445</td>\n",
       "    </tr>\n",
       "    <tr>\n",
       "      <th>TAX</th>\n",
       "      <td>0.506456</td>\n",
       "      <td>-0.441808</td>\n",
       "      <td>-0.292048</td>\n",
       "      <td>0.582764</td>\n",
       "      <td>-0.534432</td>\n",
       "      <td>0.720760</td>\n",
       "      <td>0.543993</td>\n",
       "      <td>0.668023</td>\n",
       "      <td>0.460853</td>\n",
       "      <td>0.910228</td>\n",
       "      <td>-0.314563</td>\n",
       "      <td>1.000000</td>\n",
       "      <td>-0.035587</td>\n",
       "      <td>-0.468536</td>\n",
       "    </tr>\n",
       "    <tr>\n",
       "      <th>CHAS</th>\n",
       "      <td>0.086518</td>\n",
       "      <td>0.048788</td>\n",
       "      <td>0.091251</td>\n",
       "      <td>-0.055892</td>\n",
       "      <td>-0.099176</td>\n",
       "      <td>0.062938</td>\n",
       "      <td>-0.053929</td>\n",
       "      <td>0.091203</td>\n",
       "      <td>-0.121515</td>\n",
       "      <td>-0.007368</td>\n",
       "      <td>-0.042697</td>\n",
       "      <td>-0.035587</td>\n",
       "      <td>1.000000</td>\n",
       "      <td>0.175260</td>\n",
       "    </tr>\n",
       "    <tr>\n",
       "      <th>Target</th>\n",
       "      <td>-0.376955</td>\n",
       "      <td>0.333461</td>\n",
       "      <td>0.695360</td>\n",
       "      <td>-0.388305</td>\n",
       "      <td>0.249929</td>\n",
       "      <td>-0.483725</td>\n",
       "      <td>-0.737663</td>\n",
       "      <td>-0.427321</td>\n",
       "      <td>-0.507787</td>\n",
       "      <td>-0.381626</td>\n",
       "      <td>0.360445</td>\n",
       "      <td>-0.468536</td>\n",
       "      <td>0.175260</td>\n",
       "      <td>1.000000</td>\n",
       "    </tr>\n",
       "  </tbody>\n",
       "</table>\n",
       "</div>"
      ],
      "text/plain": [
       "              AGE         B        RM      CRIM       DIS     INDUS     LSTAT  \\\n",
       "AGE      1.000000 -0.273534 -0.240265  0.352734 -0.747881  0.644779  0.602339   \n",
       "B       -0.273534  1.000000  0.128069 -0.385064  0.291512 -0.356977 -0.366087   \n",
       "RM      -0.240265  0.128069  1.000000 -0.219247  0.205246 -0.391676 -0.613808   \n",
       "CRIM     0.352734 -0.385064 -0.219247  1.000000 -0.379670  0.406583  0.455621   \n",
       "DIS     -0.747881  0.291512  0.205246 -0.379670  1.000000 -0.708027 -0.496996   \n",
       "INDUS    0.644779 -0.356977 -0.391676  0.406583 -0.708027  1.000000  0.603800   \n",
       "LSTAT    0.602339 -0.366087 -0.613808  0.455621 -0.496996  0.603800  1.000000   \n",
       "NOX      0.731470 -0.380051 -0.302188  0.420972 -0.769230  0.763651  0.590879   \n",
       "PTRATIO  0.261515 -0.177383 -0.355501  0.289946 -0.232471  0.383248  0.374044   \n",
       "RAD      0.456022 -0.444413 -0.209847  0.625505 -0.494588  0.595129  0.488676   \n",
       "ZN      -0.569537  0.175520  0.311991 -0.200469  0.664408 -0.533828 -0.412995   \n",
       "TAX      0.506456 -0.441808 -0.292048  0.582764 -0.534432  0.720760  0.543993   \n",
       "CHAS     0.086518  0.048788  0.091251 -0.055892 -0.099176  0.062938 -0.053929   \n",
       "Target  -0.376955  0.333461  0.695360 -0.388305  0.249929 -0.483725 -0.737663   \n",
       "\n",
       "              NOX   PTRATIO       RAD        ZN       TAX      CHAS    Target  \n",
       "AGE      0.731470  0.261515  0.456022 -0.569537  0.506456  0.086518 -0.376955  \n",
       "B       -0.380051 -0.177383 -0.444413  0.175520 -0.441808  0.048788  0.333461  \n",
       "RM      -0.302188 -0.355501 -0.209847  0.311991 -0.292048  0.091251  0.695360  \n",
       "CRIM     0.420972  0.289946  0.625505 -0.200469  0.582764 -0.055892 -0.388305  \n",
       "DIS     -0.769230 -0.232471 -0.494588  0.664408 -0.534432 -0.099176  0.249929  \n",
       "INDUS    0.763651  0.383248  0.595129 -0.533828  0.720760  0.062938 -0.483725  \n",
       "LSTAT    0.590879  0.374044  0.488676 -0.412995  0.543993 -0.053929 -0.737663  \n",
       "NOX      1.000000  0.188933  0.611441 -0.516604  0.668023  0.091203 -0.427321  \n",
       "PTRATIO  0.188933  1.000000  0.464741 -0.391679  0.460853 -0.121515 -0.507787  \n",
       "RAD      0.611441  0.464741  1.000000 -0.311948  0.910228 -0.007368 -0.381626  \n",
       "ZN      -0.516604 -0.391679 -0.311948  1.000000 -0.314563 -0.042697  0.360445  \n",
       "TAX      0.668023  0.460853  0.910228 -0.314563  1.000000 -0.035587 -0.468536  \n",
       "CHAS     0.091203 -0.121515 -0.007368 -0.042697 -0.035587  1.000000  0.175260  \n",
       "Target  -0.427321 -0.507787 -0.381626  0.360445 -0.468536  0.175260  1.000000  "
      ]
     },
     "execution_count": 13,
     "metadata": {},
     "output_type": "execute_result"
    }
   ],
   "source": [
    "df.corr()"
   ]
  },
  {
   "cell_type": "code",
   "execution_count": 14,
   "metadata": {},
   "outputs": [
    {
     "data": {
      "text/plain": [
       "<matplotlib.axes._subplots.AxesSubplot at 0x1def9943400>"
      ]
     },
     "execution_count": 14,
     "metadata": {},
     "output_type": "execute_result"
    },
    {
     "data": {
      "image/png": "[encoded data removed]",
      "text/plain": [
       "<Figure size 1080x1080 with 2 Axes>"
      ]
     },
     "metadata": {
      "needs_background": "light"
     },
     "output_type": "display_data"
    }
   ],
   "source": [
    "# 시각화를 시켜서 좀 더 편하게 해석\n",
    "plt.figure(figsize=(15,15))\n",
    "\n",
    "sns.heatmap(data = df.corr(), annot=True, \n",
    "            fmt = '.2f', linewidths=.5, cmap='Blues')"
   ]
  },
  {
   "cell_type": "markdown",
   "metadata": {},
   "source": [
    "TAX와 RAD간의 높은 상관관계를 확인할 수 있음."
   ]
  },
  {
   "cell_type": "code",
   "execution_count": 15,
   "metadata": {},
   "outputs": [
    {
     "data": {
      "text/plain": [
       "<seaborn.axisgrid.PairGrid at 0x1defa066070>"
      ]
     },
     "execution_count": 15,
     "metadata": {},
     "output_type": "execute_result"
    },
    {
     "data": {
      "image/png": "[encoded data removed]",
      "text/plain": [
       "<Figure size 360x360 with 6 Axes>"
      ]
     },
     "metadata": {
      "needs_background": "light"
     },
     "output_type": "display_data"
    }
   ],
   "source": [
    "# pairplot으로써 좀 더 자세히 시각화시켜보면,\n",
    "sns.pairplot(df[['TAX', 'RAD']])"
   ]
  },
  {
   "cell_type": "markdown",
   "metadata": {},
   "source": [
    "<a id= '2'></a>"
   ]
  },
  {
   "cell_type": "markdown",
   "metadata": {},
   "source": [
    "## [VIF](#0)"
   ]
  },
  {
   "cell_type": "code",
   "execution_count": 16,
   "metadata": {},
   "outputs": [],
   "source": [
    "# 시각화 이외에도 VIF를 이용해서 correlation을 확인할 수 있음.\n",
    "from statsmodels.stats.outliers_influence import variance_inflation_factor"
   ]
  },
  {
   "cell_type": "code",
   "execution_count": 17,
   "metadata": {},
   "outputs": [
    {
     "data": {
      "text/html": [
       "<div>\n",
       "<style scoped>\n",
       "    .dataframe tbody tr th:only-of-type {\n",
       "        vertical-align: middle;\n",
       "    }\n",
       "\n",
       "    .dataframe tbody tr th {\n",
       "        vertical-align: top;\n",
       "    }\n",
       "\n",
       "    .dataframe thead th {\n",
       "        text-align: right;\n",
       "    }\n",
       "</style>\n",
       "<table border=\"1\" class=\"dataframe\">\n",
       "  <thead>\n",
       "    <tr style=\"text-align: right;\">\n",
       "      <th></th>\n",
       "      <th>VIF Factor</th>\n",
       "      <th>features</th>\n",
       "    </tr>\n",
       "  </thead>\n",
       "  <tbody>\n",
       "    <tr>\n",
       "      <th>0</th>\n",
       "      <td>21.386850</td>\n",
       "      <td>AGE</td>\n",
       "    </tr>\n",
       "    <tr>\n",
       "      <th>1</th>\n",
       "      <td>20.104943</td>\n",
       "      <td>B</td>\n",
       "    </tr>\n",
       "    <tr>\n",
       "      <th>2</th>\n",
       "      <td>77.948283</td>\n",
       "      <td>RM</td>\n",
       "    </tr>\n",
       "    <tr>\n",
       "      <th>3</th>\n",
       "      <td>2.100373</td>\n",
       "      <td>CRIM</td>\n",
       "    </tr>\n",
       "    <tr>\n",
       "      <th>4</th>\n",
       "      <td>14.699652</td>\n",
       "      <td>DIS</td>\n",
       "    </tr>\n",
       "    <tr>\n",
       "      <th>5</th>\n",
       "      <td>14.485758</td>\n",
       "      <td>INDUS</td>\n",
       "    </tr>\n",
       "    <tr>\n",
       "      <th>6</th>\n",
       "      <td>11.102025</td>\n",
       "      <td>LSTAT</td>\n",
       "    </tr>\n",
       "    <tr>\n",
       "      <th>7</th>\n",
       "      <td>73.894947</td>\n",
       "      <td>NOX</td>\n",
       "    </tr>\n",
       "    <tr>\n",
       "      <th>8</th>\n",
       "      <td>85.029547</td>\n",
       "      <td>PTRATIO</td>\n",
       "    </tr>\n",
       "    <tr>\n",
       "      <th>9</th>\n",
       "      <td>15.167725</td>\n",
       "      <td>RAD</td>\n",
       "    </tr>\n",
       "    <tr>\n",
       "      <th>10</th>\n",
       "      <td>2.844013</td>\n",
       "      <td>ZN</td>\n",
       "    </tr>\n",
       "    <tr>\n",
       "      <th>11</th>\n",
       "      <td>61.227274</td>\n",
       "      <td>TAX</td>\n",
       "    </tr>\n",
       "    <tr>\n",
       "      <th>12</th>\n",
       "      <td>1.152952</td>\n",
       "      <td>CHAS</td>\n",
       "    </tr>\n",
       "  </tbody>\n",
       "</table>\n",
       "</div>"
      ],
      "text/plain": [
       "    VIF Factor features\n",
       "0    21.386850      AGE\n",
       "1    20.104943        B\n",
       "2    77.948283       RM\n",
       "3     2.100373     CRIM\n",
       "4    14.699652      DIS\n",
       "5    14.485758    INDUS\n",
       "6    11.102025    LSTAT\n",
       "7    73.894947      NOX\n",
       "8    85.029547  PTRATIO\n",
       "9    15.167725      RAD\n",
       "10    2.844013       ZN\n",
       "11   61.227274      TAX\n",
       "12    1.152952     CHAS"
      ]
     },
     "execution_count": 17,
     "metadata": {},
     "output_type": "execute_result"
    }
   ],
   "source": [
    "vif = pd.DataFrame()\n",
    "vif[\"VIF Factor\"] = [variance_inflation_factor(Input.values, i) for i in range(X.shape[1])]\n",
    "vif[\"features\"] = Input.columns\n",
    "vif"
   ]
  },
  {
   "cell_type": "markdown",
   "metadata": {},
   "source": [
    "### 실습: aromawine 데이터 vif 확인하기"
   ]
  },
  {
   "cell_type": "code",
   "execution_count": 18,
   "metadata": {},
   "outputs": [
    {
     "data": {
      "text/html": [
       "<div>\n",
       "<style scoped>\n",
       "    .dataframe tbody tr th:only-of-type {\n",
       "        vertical-align: middle;\n",
       "    }\n",
       "\n",
       "    .dataframe tbody tr th {\n",
       "        vertical-align: top;\n",
       "    }\n",
       "\n",
       "    .dataframe thead th {\n",
       "        text-align: right;\n",
       "    }\n",
       "</style>\n",
       "<table border=\"1\" class=\"dataframe\">\n",
       "  <thead>\n",
       "    <tr style=\"text-align: right;\">\n",
       "      <th></th>\n",
       "      <th>Mo</th>\n",
       "      <th>Ba</th>\n",
       "      <th>Cr</th>\n",
       "      <th>Sr</th>\n",
       "      <th>Pb</th>\n",
       "      <th>B</th>\n",
       "      <th>Mg</th>\n",
       "      <th>Ca</th>\n",
       "      <th>K</th>\n",
       "      <th>Aroma</th>\n",
       "    </tr>\n",
       "  </thead>\n",
       "  <tbody>\n",
       "    <tr>\n",
       "      <th>0</th>\n",
       "      <td>0.044</td>\n",
       "      <td>0.387</td>\n",
       "      <td>0.029</td>\n",
       "      <td>1.230</td>\n",
       "      <td>0.561</td>\n",
       "      <td>2.63</td>\n",
       "      <td>128.0</td>\n",
       "      <td>80.5</td>\n",
       "      <td>1130</td>\n",
       "      <td>3.3</td>\n",
       "    </tr>\n",
       "    <tr>\n",
       "      <th>1</th>\n",
       "      <td>0.160</td>\n",
       "      <td>0.312</td>\n",
       "      <td>0.038</td>\n",
       "      <td>0.975</td>\n",
       "      <td>0.697</td>\n",
       "      <td>6.21</td>\n",
       "      <td>193.0</td>\n",
       "      <td>75.0</td>\n",
       "      <td>1010</td>\n",
       "      <td>4.4</td>\n",
       "    </tr>\n",
       "    <tr>\n",
       "      <th>2</th>\n",
       "      <td>0.146</td>\n",
       "      <td>0.308</td>\n",
       "      <td>0.035</td>\n",
       "      <td>1.140</td>\n",
       "      <td>0.730</td>\n",
       "      <td>3.05</td>\n",
       "      <td>127.0</td>\n",
       "      <td>91.0</td>\n",
       "      <td>1160</td>\n",
       "      <td>3.9</td>\n",
       "    </tr>\n",
       "    <tr>\n",
       "      <th>3</th>\n",
       "      <td>0.191</td>\n",
       "      <td>0.165</td>\n",
       "      <td>0.036</td>\n",
       "      <td>0.927</td>\n",
       "      <td>0.796</td>\n",
       "      <td>2.57</td>\n",
       "      <td>112.0</td>\n",
       "      <td>93.6</td>\n",
       "      <td>924</td>\n",
       "      <td>3.9</td>\n",
       "    </tr>\n",
       "    <tr>\n",
       "      <th>4</th>\n",
       "      <td>0.363</td>\n",
       "      <td>0.380</td>\n",
       "      <td>0.059</td>\n",
       "      <td>1.130</td>\n",
       "      <td>1.730</td>\n",
       "      <td>3.07</td>\n",
       "      <td>138.0</td>\n",
       "      <td>84.6</td>\n",
       "      <td>1090</td>\n",
       "      <td>5.6</td>\n",
       "    </tr>\n",
       "  </tbody>\n",
       "</table>\n",
       "</div>"
      ],
      "text/plain": [
       "      Mo     Ba     Cr     Sr     Pb     B     Mg    Ca     K  Aroma\n",
       "0  0.044  0.387  0.029  1.230  0.561  2.63  128.0  80.5  1130    3.3\n",
       "1  0.160  0.312  0.038  0.975  0.697  6.21  193.0  75.0  1010    4.4\n",
       "2  0.146  0.308  0.035  1.140  0.730  3.05  127.0  91.0  1160    3.9\n",
       "3  0.191  0.165  0.036  0.927  0.796  2.57  112.0  93.6   924    3.9\n",
       "4  0.363  0.380  0.059  1.130  1.730  3.07  138.0  84.6  1090    5.6"
      ]
     },
     "execution_count": 18,
     "metadata": {},
     "output_type": "execute_result"
    }
   ],
   "source": [
    "wine = pd.read_excel('wine_aroma.xlsx')\n",
    "wine.head()"
   ]
  },
  {
   "cell_type": "code",
   "execution_count": 19,
   "metadata": {},
   "outputs": [
    {
     "data": {
      "text/plain": [
       "<matplotlib.axes._subplots.AxesSubplot at 0x1defc5cb1f0>"
      ]
     },
     "execution_count": 19,
     "metadata": {},
     "output_type": "execute_result"
    },
    {
     "data": {
      "image/png": "[encoded data removed]",
      "text/plain": [
       "<Figure size 720x720 with 2 Axes>"
      ]
     },
     "metadata": {
      "needs_background": "light"
     },
     "output_type": "display_data"
    }
   ],
   "source": [
    "# correlation 시각화\n",
    "plt.figure(figsize=(10,10))\n",
    "\n",
    "sns.heatmap(data = wine.corr(), annot=True, \n",
    "            fmt = '.2f', linewidths=.5, cmap='Blues')"
   ]
  },
  {
   "cell_type": "code",
   "execution_count": 20,
   "metadata": {},
   "outputs": [],
   "source": [
    "# 독립 변수와 종속 변수 나누기\n",
    "Input_wine = wine.iloc[:,:-1]\n",
    "Output_wine = wine.iloc[:,-1]"
   ]
  },
  {
   "cell_type": "code",
   "execution_count": 21,
   "metadata": {},
   "outputs": [
    {
     "data": {
      "text/html": [
       "<div>\n",
       "<style scoped>\n",
       "    .dataframe tbody tr th:only-of-type {\n",
       "        vertical-align: middle;\n",
       "    }\n",
       "\n",
       "    .dataframe tbody tr th {\n",
       "        vertical-align: top;\n",
       "    }\n",
       "\n",
       "    .dataframe thead th {\n",
       "        text-align: right;\n",
       "    }\n",
       "</style>\n",
       "<table border=\"1\" class=\"dataframe\">\n",
       "  <thead>\n",
       "    <tr style=\"text-align: right;\">\n",
       "      <th></th>\n",
       "      <th>VIF Factor</th>\n",
       "      <th>features</th>\n",
       "    </tr>\n",
       "  </thead>\n",
       "  <tbody>\n",
       "    <tr>\n",
       "      <th>0</th>\n",
       "      <td>85.311791</td>\n",
       "      <td>Mo</td>\n",
       "    </tr>\n",
       "    <tr>\n",
       "      <th>1</th>\n",
       "      <td>28.700675</td>\n",
       "      <td>Ba</td>\n",
       "    </tr>\n",
       "    <tr>\n",
       "      <th>2</th>\n",
       "      <td>18.610717</td>\n",
       "      <td>Cr</td>\n",
       "    </tr>\n",
       "    <tr>\n",
       "      <th>3</th>\n",
       "      <td>40.164814</td>\n",
       "      <td>Sr</td>\n",
       "    </tr>\n",
       "    <tr>\n",
       "      <th>4</th>\n",
       "      <td>95.631351</td>\n",
       "      <td>Pb</td>\n",
       "    </tr>\n",
       "    <tr>\n",
       "      <th>5</th>\n",
       "      <td>27.587390</td>\n",
       "      <td>B</td>\n",
       "    </tr>\n",
       "    <tr>\n",
       "      <th>6</th>\n",
       "      <td>61.935836</td>\n",
       "      <td>Mg</td>\n",
       "    </tr>\n",
       "    <tr>\n",
       "      <th>7</th>\n",
       "      <td>52.573653</td>\n",
       "      <td>Ca</td>\n",
       "    </tr>\n",
       "    <tr>\n",
       "      <th>8</th>\n",
       "      <td>94.803892</td>\n",
       "      <td>K</td>\n",
       "    </tr>\n",
       "  </tbody>\n",
       "</table>\n",
       "</div>"
      ],
      "text/plain": [
       "   VIF Factor features\n",
       "0   85.311791       Mo\n",
       "1   28.700675       Ba\n",
       "2   18.610717       Cr\n",
       "3   40.164814       Sr\n",
       "4   95.631351       Pb\n",
       "5   27.587390        B\n",
       "6   61.935836       Mg\n",
       "7   52.573653       Ca\n",
       "8   94.803892        K"
      ]
     },
     "execution_count": 21,
     "metadata": {},
     "output_type": "execute_result"
    }
   ],
   "source": [
    "# VIF 구하기\n",
    "vif = pd.DataFrame()\n",
    "vif[\"VIF Factor\"] = [variance_inflation_factor(Input_wine.values, i) \n",
    "                     for i in range(Input_wine.shape[1])]\n",
    "vif[\"features\"] = Input_wine.columns\n",
    "vif"
   ]
  },
  {
   "cell_type": "markdown",
   "metadata": {},
   "source": [
    "<a id= '3'></a>"
   ]
  },
  {
   "cell_type": "markdown",
   "metadata": {},
   "source": [
    "## [정성적 방안: 변수선택법 활용](#0)\n",
    "1. [전진선택법](#ex1)\n",
    "2. [후진제거법](#ex2)"
   ]
  },
  {
   "cell_type": "code",
   "execution_count": 25,
   "metadata": {
    "collapsed": true
   },
   "outputs": [
    {
     "name": "stdout",
     "output_type": "stream",
     "text": [
      "Collecting mlxtend\n",
      "  Downloading mlxtend-0.18.0-py2.py3-none-any.whl (1.3 MB)\n"
     ]
    },
    {
     "name": "stderr",
     "output_type": "stream",
     "text": [
      "WARNING: You are using pip version 20.3.1; however, version 21.1.3 is available.\n",
      "You should consider upgrading via the 'c:\\users\\user\\anaconda3\\python.exe -m pip install --upgrade pip' command.\n"
     ]
    },
    {
     "name": "stdout",
     "output_type": "stream",
     "text": [
      "Requirement already satisfied: joblib>=0.13.2 in c:\\users\\user\\anaconda3\\lib\\site-packages (from mlxtend) (0.16.0)\n",
      "Requirement already satisfied: pandas>=0.24.2 in c:\\users\\user\\anaconda3\\lib\\site-packages (from mlxtend) (1.0.5)\n",
      "Requirement already satisfied: scipy>=1.2.1 in c:\\users\\user\\anaconda3\\lib\\site-packages (from mlxtend) (1.4.1)\n",
      "Requirement already satisfied: matplotlib>=3.0.0 in c:\\users\\user\\anaconda3\\lib\\site-packages (from mlxtend) (3.2.2)\n",
      "Requirement already satisfied: numpy>=1.16.2 in c:\\users\\user\\anaconda3\\lib\\site-packages (from mlxtend) (1.18.5)\n",
      "Requirement already satisfied: scikit-learn>=0.20.3 in c:\\users\\user\\anaconda3\\lib\\site-packages (from mlxtend) (0.23.1)\n",
      "Requirement already satisfied: setuptools in c:\\users\\user\\anaconda3\\lib\\site-packages (from mlxtend) (49.2.0.post20200714)\n",
      "Requirement already satisfied: cycler>=0.10 in c:\\users\\user\\anaconda3\\lib\\site-packages (from matplotlib>=3.0.0->mlxtend) (0.10.0)\n",
      "Requirement already satisfied: kiwisolver>=1.0.1 in c:\\users\\user\\anaconda3\\lib\\site-packages (from matplotlib>=3.0.0->mlxtend) (1.2.0)\n",
      "Requirement already satisfied: numpy>=1.16.2 in c:\\users\\user\\anaconda3\\lib\\site-packages (from mlxtend) (1.18.5)\n",
      "Requirement already satisfied: pyparsing!=2.0.4,!=2.1.2,!=2.1.6,>=2.0.1 in c:\\users\\user\\anaconda3\\lib\\site-packages (from matplotlib>=3.0.0->mlxtend) (2.4.7)\n",
      "Requirement already satisfied: python-dateutil>=2.1 in c:\\users\\user\\anaconda3\\lib\\site-packages (from matplotlib>=3.0.0->mlxtend) (2.8.1)\n",
      "Requirement already satisfied: six in c:\\users\\user\\anaconda3\\lib\\site-packages (from cycler>=0.10->matplotlib>=3.0.0->mlxtend) (1.15.0)\n",
      "Requirement already satisfied: python-dateutil>=2.1 in c:\\users\\user\\anaconda3\\lib\\site-packages (from matplotlib>=3.0.0->mlxtend) (2.8.1)\n",
      "Requirement already satisfied: pytz>=2017.2 in c:\\users\\user\\anaconda3\\lib\\site-packages (from pandas>=0.24.2->mlxtend) (2020.1)\n",
      "Requirement already satisfied: numpy>=1.16.2 in c:\\users\\user\\anaconda3\\lib\\site-packages (from mlxtend) (1.18.5)\n",
      "Requirement already satisfied: six in c:\\users\\user\\anaconda3\\lib\\site-packages (from cycler>=0.10->matplotlib>=3.0.0->mlxtend) (1.15.0)\n",
      "Requirement already satisfied: numpy>=1.16.2 in c:\\users\\user\\anaconda3\\lib\\site-packages (from mlxtend) (1.18.5)\n",
      "Requirement already satisfied: scipy>=1.2.1 in c:\\users\\user\\anaconda3\\lib\\site-packages (from mlxtend) (1.4.1)\n",
      "Requirement already satisfied: threadpoolctl>=2.0.0 in c:\\users\\user\\anaconda3\\lib\\site-packages (from scikit-learn>=0.20.3->mlxtend) (2.1.0)\n",
      "Requirement already satisfied: joblib>=0.13.2 in c:\\users\\user\\anaconda3\\lib\\site-packages (from mlxtend) (0.16.0)\n",
      "Requirement already satisfied: numpy>=1.16.2 in c:\\users\\user\\anaconda3\\lib\\site-packages (from mlxtend) (1.18.5)\n",
      "Installing collected packages: mlxtend\n",
      "Successfully installed mlxtend-0.18.0\n"
     ]
    }
   ],
   "source": [
    "!pip install mlxtend\n",
    "# 터미널 내에서 다운로드"
   ]
  },
  {
   "cell_type": "code",
   "execution_count": 22,
   "metadata": {},
   "outputs": [],
   "source": [
    "from mlxtend.feature_selection import SequentialFeatureSelector as SFS"
   ]
  },
  {
   "cell_type": "code",
   "execution_count": 24,
   "metadata": {},
   "outputs": [],
   "source": [
    "?SFS"
   ]
  },
  {
   "cell_type": "markdown",
   "metadata": {},
   "source": [
    "<a id='ex1'></a>"
   ]
  },
  {
   "cell_type": "markdown",
   "metadata": {},
   "source": [
    "### [전진선택법](#3)"
   ]
  },
  {
   "cell_type": "code",
   "execution_count": 42,
   "metadata": {},
   "outputs": [
    {
     "data": {
      "text/plain": [
       "SequentialFeatureSelector(cv=0, estimator=LinearRegression(), k_features=5,\n",
       "                          scoring='r2')"
      ]
     },
     "execution_count": 42,
     "metadata": {},
     "output_type": "execute_result"
    }
   ],
   "source": [
    "fs = SFS(LinearRegression(),\n",
    "           k_features=5, forward=True, floating=False, scoring = 'r2', cv = 0)\n",
    "\n",
    "fs.fit(Input,Output)"
   ]
  },
  {
   "cell_type": "code",
   "execution_count": 43,
   "metadata": {},
   "outputs": [
    {
     "data": {
      "text/plain": [
       "{1: {'feature_idx': (6,),\n",
       "  'cv_scores': array([0.5441463]),\n",
       "  'avg_score': 0.5441462975864797,\n",
       "  'feature_names': ('LSTAT',)},\n",
       " 2: {'feature_idx': (2, 6),\n",
       "  'cv_scores': array([0.63856161]),\n",
       "  'avg_score': 0.6385616062603403,\n",
       "  'feature_names': ('RM', 'LSTAT')},\n",
       " 3: {'feature_idx': (2, 6, 8),\n",
       "  'cv_scores': array([0.67862416]),\n",
       "  'avg_score': 0.6786241601613112,\n",
       "  'feature_names': ('RM', 'LSTAT', 'PTRATIO')},\n",
       " 4: {'feature_idx': (2, 4, 6, 8),\n",
       "  'cv_scores': array([0.6903077]),\n",
       "  'avg_score': 0.6903077016842538,\n",
       "  'feature_names': ('RM', 'DIS', 'LSTAT', 'PTRATIO')},\n",
       " 5: {'feature_idx': (2, 4, 6, 7, 8),\n",
       "  'cv_scores': array([0.70808929]),\n",
       "  'avg_score': 0.7080892893529662,\n",
       "  'feature_names': ('RM', 'DIS', 'LSTAT', 'NOX', 'PTRATIO')}}"
      ]
     },
     "execution_count": 43,
     "metadata": {},
     "output_type": "execute_result"
    }
   ],
   "source": [
    "fs.subsets_"
   ]
  },
  {
   "cell_type": "code",
   "execution_count": 44,
   "metadata": {},
   "outputs": [
    {
     "name": "stderr",
     "output_type": "stream",
     "text": [
      "C:\\Users\\User\\anaconda3\\lib\\site-packages\\numpy\\core\\_methods.py:216: RuntimeWarning: Degrees of freedom <= 0 for slice\n",
      "  ret = _var(a, axis=axis, dtype=dtype, out=out, ddof=ddof,\n",
      "C:\\Users\\User\\anaconda3\\lib\\site-packages\\numpy\\core\\_methods.py:209: RuntimeWarning: invalid value encountered in double_scalars\n",
      "  ret = ret.dtype.type(ret / rcount)\n"
     ]
    },
    {
     "data": {
      "text/html": [
       "<div>\n",
       "<style scoped>\n",
       "    .dataframe tbody tr th:only-of-type {\n",
       "        vertical-align: middle;\n",
       "    }\n",
       "\n",
       "    .dataframe tbody tr th {\n",
       "        vertical-align: top;\n",
       "    }\n",
       "\n",
       "    .dataframe thead th {\n",
       "        text-align: right;\n",
       "    }\n",
       "</style>\n",
       "<table border=\"1\" class=\"dataframe\">\n",
       "  <thead>\n",
       "    <tr style=\"text-align: right;\">\n",
       "      <th></th>\n",
       "      <th>feature_idx</th>\n",
       "      <th>cv_scores</th>\n",
       "      <th>avg_score</th>\n",
       "      <th>feature_names</th>\n",
       "      <th>ci_bound</th>\n",
       "      <th>std_dev</th>\n",
       "      <th>std_err</th>\n",
       "    </tr>\n",
       "  </thead>\n",
       "  <tbody>\n",
       "    <tr>\n",
       "      <th>1</th>\n",
       "      <td>(6,)</td>\n",
       "      <td>[0.5441462975864797]</td>\n",
       "      <td>0.544146</td>\n",
       "      <td>(LSTAT,)</td>\n",
       "      <td>NaN</td>\n",
       "      <td>0</td>\n",
       "      <td>NaN</td>\n",
       "    </tr>\n",
       "    <tr>\n",
       "      <th>2</th>\n",
       "      <td>(2, 6)</td>\n",
       "      <td>[0.6385616062603403]</td>\n",
       "      <td>0.638562</td>\n",
       "      <td>(RM, LSTAT)</td>\n",
       "      <td>NaN</td>\n",
       "      <td>0</td>\n",
       "      <td>NaN</td>\n",
       "    </tr>\n",
       "    <tr>\n",
       "      <th>3</th>\n",
       "      <td>(2, 6, 8)</td>\n",
       "      <td>[0.6786241601613112]</td>\n",
       "      <td>0.678624</td>\n",
       "      <td>(RM, LSTAT, PTRATIO)</td>\n",
       "      <td>NaN</td>\n",
       "      <td>0</td>\n",
       "      <td>NaN</td>\n",
       "    </tr>\n",
       "    <tr>\n",
       "      <th>4</th>\n",
       "      <td>(2, 4, 6, 8)</td>\n",
       "      <td>[0.6903077016842538]</td>\n",
       "      <td>0.690308</td>\n",
       "      <td>(RM, DIS, LSTAT, PTRATIO)</td>\n",
       "      <td>NaN</td>\n",
       "      <td>0</td>\n",
       "      <td>NaN</td>\n",
       "    </tr>\n",
       "    <tr>\n",
       "      <th>5</th>\n",
       "      <td>(2, 4, 6, 7, 8)</td>\n",
       "      <td>[0.7080892893529662]</td>\n",
       "      <td>0.708089</td>\n",
       "      <td>(RM, DIS, LSTAT, NOX, PTRATIO)</td>\n",
       "      <td>NaN</td>\n",
       "      <td>0</td>\n",
       "      <td>NaN</td>\n",
       "    </tr>\n",
       "  </tbody>\n",
       "</table>\n",
       "</div>"
      ],
      "text/plain": [
       "       feature_idx             cv_scores avg_score  \\\n",
       "1             (6,)  [0.5441462975864797]  0.544146   \n",
       "2           (2, 6)  [0.6385616062603403]  0.638562   \n",
       "3        (2, 6, 8)  [0.6786241601613112]  0.678624   \n",
       "4     (2, 4, 6, 8)  [0.6903077016842538]  0.690308   \n",
       "5  (2, 4, 6, 7, 8)  [0.7080892893529662]  0.708089   \n",
       "\n",
       "                    feature_names ci_bound std_dev std_err  \n",
       "1                        (LSTAT,)      NaN       0     NaN  \n",
       "2                     (RM, LSTAT)      NaN       0     NaN  \n",
       "3            (RM, LSTAT, PTRATIO)      NaN       0     NaN  \n",
       "4       (RM, DIS, LSTAT, PTRATIO)      NaN       0     NaN  \n",
       "5  (RM, DIS, LSTAT, NOX, PTRATIO)      NaN       0     NaN  "
      ]
     },
     "execution_count": 44,
     "metadata": {},
     "output_type": "execute_result"
    }
   ],
   "source": [
    "pd.DataFrame.from_dict(fs.get_metric_dict()).T"
   ]
  },
  {
   "cell_type": "code",
   "execution_count": 45,
   "metadata": {},
   "outputs": [
    {
     "name": "stdout",
     "output_type": "stream",
     "text": [
      "전진선택법시 R^2: 0.7081\n",
      "전진선택법시 Feature Index:  (2, 4, 6, 7, 8)\n"
     ]
    }
   ],
   "source": [
    "print(f'전진선택법시 R^2: {fs.k_score_:.4f}')\n",
    "print('전진선택법시 Feature Index: ', fs.k_feature_idx_)"
   ]
  },
  {
   "cell_type": "code",
   "execution_count": 46,
   "metadata": {},
   "outputs": [],
   "source": [
    "from mlxtend.plotting import plot_sequential_feature_selection as plot_sfs"
   ]
  },
  {
   "cell_type": "code",
   "execution_count": 47,
   "metadata": {},
   "outputs": [
    {
     "name": "stderr",
     "output_type": "stream",
     "text": [
      "C:\\Users\\User\\anaconda3\\lib\\site-packages\\numpy\\core\\_methods.py:216: RuntimeWarning: Degrees of freedom <= 0 for slice\n",
      "  ret = _var(a, axis=axis, dtype=dtype, out=out, ddof=ddof,\n",
      "C:\\Users\\User\\anaconda3\\lib\\site-packages\\numpy\\core\\_methods.py:209: RuntimeWarning: invalid value encountered in double_scalars\n",
      "  ret = ret.dtype.type(ret / rcount)\n"
     ]
    },
    {
     "data": {
      "image/png": "[encoded data removed]",
      "text/plain": [
       "<Figure size 432x288 with 1 Axes>"
      ]
     },
     "metadata": {
      "needs_background": "light"
     },
     "output_type": "display_data"
    }
   ],
   "source": [
    "fig = plot_sfs(fs.get_metric_dict())\n",
    "plt.title('Forward Selection')\n",
    "plt.grid()\n",
    "plt.show()"
   ]
  },
  {
   "cell_type": "markdown",
   "metadata": {},
   "source": [
    "<a id='ex2'></a>"
   ]
  },
  {
   "cell_type": "markdown",
   "metadata": {},
   "source": [
    "### [후진제거법](#3)"
   ]
  },
  {
   "cell_type": "code",
   "execution_count": 52,
   "metadata": {},
   "outputs": [
    {
     "data": {
      "text/plain": [
       "SequentialFeatureSelector(cv=0, estimator=LinearRegression(), forward=False,\n",
       "                          k_features=5, scoring='r2')"
      ]
     },
     "execution_count": 52,
     "metadata": {},
     "output_type": "execute_result"
    }
   ],
   "source": [
    "# forward = False로써 후진제거법 사용 가능.\n",
    "bs = SFS(LinearRegression(),\n",
    "           k_features=5, forward=False, floating=False,scoring = 'r2', cv = 0)\n",
    "\n",
    "bs.fit(Input,Output)"
   ]
  },
  {
   "cell_type": "code",
   "execution_count": 53,
   "metadata": {},
   "outputs": [
    {
     "name": "stderr",
     "output_type": "stream",
     "text": [
      "C:\\Users\\User\\anaconda3\\lib\\site-packages\\numpy\\core\\_methods.py:216: RuntimeWarning: Degrees of freedom <= 0 for slice\n",
      "  ret = _var(a, axis=axis, dtype=dtype, out=out, ddof=ddof,\n",
      "C:\\Users\\User\\anaconda3\\lib\\site-packages\\numpy\\core\\_methods.py:209: RuntimeWarning: invalid value encountered in double_scalars\n",
      "  ret = ret.dtype.type(ret / rcount)\n"
     ]
    },
    {
     "data": {
      "text/html": [
       "<div>\n",
       "<style scoped>\n",
       "    .dataframe tbody tr th:only-of-type {\n",
       "        vertical-align: middle;\n",
       "    }\n",
       "\n",
       "    .dataframe tbody tr th {\n",
       "        vertical-align: top;\n",
       "    }\n",
       "\n",
       "    .dataframe thead th {\n",
       "        text-align: right;\n",
       "    }\n",
       "</style>\n",
       "<table border=\"1\" class=\"dataframe\">\n",
       "  <thead>\n",
       "    <tr style=\"text-align: right;\">\n",
       "      <th></th>\n",
       "      <th>feature_idx</th>\n",
       "      <th>cv_scores</th>\n",
       "      <th>avg_score</th>\n",
       "      <th>feature_names</th>\n",
       "      <th>ci_bound</th>\n",
       "      <th>std_dev</th>\n",
       "      <th>std_err</th>\n",
       "    </tr>\n",
       "  </thead>\n",
       "  <tbody>\n",
       "    <tr>\n",
       "      <th>13</th>\n",
       "      <td>(0, 1, 2, 3, 4, 5, 6, 7, 8, 9, 10, 11, 12)</td>\n",
       "      <td>[0.7406426641094095]</td>\n",
       "      <td>0.740643</td>\n",
       "      <td>(AGE, B, RM, CRIM, DIS, INDUS, LSTAT, NOX, PTR...</td>\n",
       "      <td>NaN</td>\n",
       "      <td>0</td>\n",
       "      <td>NaN</td>\n",
       "    </tr>\n",
       "    <tr>\n",
       "      <th>12</th>\n",
       "      <td>(1, 2, 3, 4, 5, 6, 7, 8, 9, 10, 11, 12)</td>\n",
       "      <td>[0.7406412165505145]</td>\n",
       "      <td>0.740641</td>\n",
       "      <td>(B, RM, CRIM, DIS, INDUS, LSTAT, NOX, PTRATIO,...</td>\n",
       "      <td>NaN</td>\n",
       "      <td>0</td>\n",
       "      <td>NaN</td>\n",
       "    </tr>\n",
       "    <tr>\n",
       "      <th>11</th>\n",
       "      <td>(1, 2, 3, 4, 6, 7, 8, 9, 10, 11, 12)</td>\n",
       "      <td>[0.7405822802569575]</td>\n",
       "      <td>0.740582</td>\n",
       "      <td>(B, RM, CRIM, DIS, LSTAT, NOX, PTRATIO, RAD, Z...</td>\n",
       "      <td>NaN</td>\n",
       "      <td>0</td>\n",
       "      <td>NaN</td>\n",
       "    </tr>\n",
       "    <tr>\n",
       "      <th>10</th>\n",
       "      <td>(1, 2, 3, 4, 6, 7, 8, 9, 10, 11)</td>\n",
       "      <td>[0.7352631473231817]</td>\n",
       "      <td>0.735263</td>\n",
       "      <td>(B, RM, CRIM, DIS, LSTAT, NOX, PTRATIO, RAD, Z...</td>\n",
       "      <td>NaN</td>\n",
       "      <td>0</td>\n",
       "      <td>NaN</td>\n",
       "    </tr>\n",
       "    <tr>\n",
       "      <th>9</th>\n",
       "      <td>(1, 2, 3, 4, 6, 7, 8, 9, 11)</td>\n",
       "      <td>[0.7292543470977955]</td>\n",
       "      <td>0.729254</td>\n",
       "      <td>(B, RM, CRIM, DIS, LSTAT, NOX, PTRATIO, RAD, TAX)</td>\n",
       "      <td>NaN</td>\n",
       "      <td>0</td>\n",
       "      <td>NaN</td>\n",
       "    </tr>\n",
       "    <tr>\n",
       "      <th>8</th>\n",
       "      <td>(1, 2, 3, 4, 6, 7, 8, 9)</td>\n",
       "      <td>[0.7239765998018792]</td>\n",
       "      <td>0.723977</td>\n",
       "      <td>(B, RM, CRIM, DIS, LSTAT, NOX, PTRATIO, RAD)</td>\n",
       "      <td>NaN</td>\n",
       "      <td>0</td>\n",
       "      <td>NaN</td>\n",
       "    </tr>\n",
       "    <tr>\n",
       "      <th>7</th>\n",
       "      <td>(1, 2, 4, 6, 7, 8, 9)</td>\n",
       "      <td>[0.7187395846343028]</td>\n",
       "      <td>0.71874</td>\n",
       "      <td>(B, RM, DIS, LSTAT, NOX, PTRATIO, RAD)</td>\n",
       "      <td>NaN</td>\n",
       "      <td>0</td>\n",
       "      <td>NaN</td>\n",
       "    </tr>\n",
       "    <tr>\n",
       "      <th>6</th>\n",
       "      <td>(1, 2, 4, 6, 7, 8)</td>\n",
       "      <td>[0.7153894128095097]</td>\n",
       "      <td>0.715389</td>\n",
       "      <td>(B, RM, DIS, LSTAT, NOX, PTRATIO)</td>\n",
       "      <td>NaN</td>\n",
       "      <td>0</td>\n",
       "      <td>NaN</td>\n",
       "    </tr>\n",
       "    <tr>\n",
       "      <th>5</th>\n",
       "      <td>(2, 4, 6, 7, 8)</td>\n",
       "      <td>[0.7080892893529662]</td>\n",
       "      <td>0.708089</td>\n",
       "      <td>(RM, DIS, LSTAT, NOX, PTRATIO)</td>\n",
       "      <td>NaN</td>\n",
       "      <td>0</td>\n",
       "      <td>NaN</td>\n",
       "    </tr>\n",
       "  </tbody>\n",
       "</table>\n",
       "</div>"
      ],
      "text/plain": [
       "                                   feature_idx             cv_scores  \\\n",
       "13  (0, 1, 2, 3, 4, 5, 6, 7, 8, 9, 10, 11, 12)  [0.7406426641094095]   \n",
       "12     (1, 2, 3, 4, 5, 6, 7, 8, 9, 10, 11, 12)  [0.7406412165505145]   \n",
       "11        (1, 2, 3, 4, 6, 7, 8, 9, 10, 11, 12)  [0.7405822802569575]   \n",
       "10            (1, 2, 3, 4, 6, 7, 8, 9, 10, 11)  [0.7352631473231817]   \n",
       "9                 (1, 2, 3, 4, 6, 7, 8, 9, 11)  [0.7292543470977955]   \n",
       "8                     (1, 2, 3, 4, 6, 7, 8, 9)  [0.7239765998018792]   \n",
       "7                        (1, 2, 4, 6, 7, 8, 9)  [0.7187395846343028]   \n",
       "6                           (1, 2, 4, 6, 7, 8)  [0.7153894128095097]   \n",
       "5                              (2, 4, 6, 7, 8)  [0.7080892893529662]   \n",
       "\n",
       "   avg_score                                      feature_names ci_bound  \\\n",
       "13  0.740643  (AGE, B, RM, CRIM, DIS, INDUS, LSTAT, NOX, PTR...      NaN   \n",
       "12  0.740641  (B, RM, CRIM, DIS, INDUS, LSTAT, NOX, PTRATIO,...      NaN   \n",
       "11  0.740582  (B, RM, CRIM, DIS, LSTAT, NOX, PTRATIO, RAD, Z...      NaN   \n",
       "10  0.735263  (B, RM, CRIM, DIS, LSTAT, NOX, PTRATIO, RAD, Z...      NaN   \n",
       "9   0.729254  (B, RM, CRIM, DIS, LSTAT, NOX, PTRATIO, RAD, TAX)      NaN   \n",
       "8   0.723977       (B, RM, CRIM, DIS, LSTAT, NOX, PTRATIO, RAD)      NaN   \n",
       "7    0.71874             (B, RM, DIS, LSTAT, NOX, PTRATIO, RAD)      NaN   \n",
       "6   0.715389                  (B, RM, DIS, LSTAT, NOX, PTRATIO)      NaN   \n",
       "5   0.708089                     (RM, DIS, LSTAT, NOX, PTRATIO)      NaN   \n",
       "\n",
       "   std_dev std_err  \n",
       "13       0     NaN  \n",
       "12       0     NaN  \n",
       "11       0     NaN  \n",
       "10       0     NaN  \n",
       "9        0     NaN  \n",
       "8        0     NaN  \n",
       "7        0     NaN  \n",
       "6        0     NaN  \n",
       "5        0     NaN  "
      ]
     },
     "execution_count": 53,
     "metadata": {},
     "output_type": "execute_result"
    }
   ],
   "source": [
    "pd.DataFrame.from_dict(bs.get_metric_dict()).T"
   ]
  },
  {
   "cell_type": "code",
   "execution_count": 54,
   "metadata": {},
   "outputs": [
    {
     "name": "stderr",
     "output_type": "stream",
     "text": [
      "C:\\Users\\User\\anaconda3\\lib\\site-packages\\numpy\\core\\_methods.py:216: RuntimeWarning: Degrees of freedom <= 0 for slice\n",
      "  ret = _var(a, axis=axis, dtype=dtype, out=out, ddof=ddof,\n",
      "C:\\Users\\User\\anaconda3\\lib\\site-packages\\numpy\\core\\_methods.py:209: RuntimeWarning: invalid value encountered in double_scalars\n",
      "  ret = ret.dtype.type(ret / rcount)\n"
     ]
    },
    {
     "data": {
      "image/png": "[encoded data removed]",
      "text/plain": [
       "<Figure size 432x288 with 1 Axes>"
      ]
     },
     "metadata": {
      "needs_background": "light"
     },
     "output_type": "display_data"
    }
   ],
   "source": [
    "fig = plot_sfs(bs.get_metric_dict())\n",
    "plt.title('Backward Selection')\n",
    "plt.grid()\n",
    "plt.show()"
   ]
  },
  {
   "cell_type": "code",
   "execution_count": 55,
   "metadata": {},
   "outputs": [
    {
     "name": "stdout",
     "output_type": "stream",
     "text": [
      "후진제거법시 R^2: 0.7081\n",
      "후진제거법시 Feature Index:  (2, 4, 6, 7, 8)\n"
     ]
    }
   ],
   "source": [
    "print(f'후진제거법시 R^2: {fs.k_score_:.4f}')\n",
    "print('후진제거법시 Feature Index: ', fs.k_feature_idx_)"
   ]
  },
  {
   "cell_type": "markdown",
   "metadata": {},
   "source": [
    "### 실습: wine-aroma data 전진선택법 (선택변수 3개)"
   ]
  },
  {
   "cell_type": "code",
   "execution_count": 45,
   "metadata": {},
   "outputs": [],
   "source": [
    "Input_wine = wine.iloc[:,:-1]\n",
    "Output_wine = wine.iloc[:,-1]"
   ]
  },
  {
   "cell_type": "code",
   "execution_count": 46,
   "metadata": {},
   "outputs": [
    {
     "data": {
      "text/plain": [
       "SequentialFeatureSelector(cv=0, estimator=LinearRegression(), k_features=5,\n",
       "                          scoring='r2')"
      ]
     },
     "execution_count": 46,
     "metadata": {},
     "output_type": "execute_result"
    }
   ],
   "source": [
    "# SFS 객체 생성\n",
    "fs = SFS(LinearRegression(),\n",
    "           k_features=5, forward=True, floating=False, scoring = 'r2', cv = 0)\n",
    "\n",
    "fs.fit(Input_wine,Output_wine)"
   ]
  },
  {
   "cell_type": "code",
   "execution_count": 49,
   "metadata": {},
   "outputs": [
    {
     "name": "stderr",
     "output_type": "stream",
     "text": [
      "C:\\Users\\User\\anaconda3\\lib\\site-packages\\numpy\\core\\_methods.py:216: RuntimeWarning: Degrees of freedom <= 0 for slice\n",
      "  ret = _var(a, axis=axis, dtype=dtype, out=out, ddof=ddof,\n",
      "C:\\Users\\User\\anaconda3\\lib\\site-packages\\numpy\\core\\_methods.py:209: RuntimeWarning: invalid value encountered in double_scalars\n",
      "  ret = ret.dtype.type(ret / rcount)\n"
     ]
    },
    {
     "data": {
      "text/html": [
       "<div>\n",
       "<style scoped>\n",
       "    .dataframe tbody tr th:only-of-type {\n",
       "        vertical-align: middle;\n",
       "    }\n",
       "\n",
       "    .dataframe tbody tr th {\n",
       "        vertical-align: top;\n",
       "    }\n",
       "\n",
       "    .dataframe thead th {\n",
       "        text-align: right;\n",
       "    }\n",
       "</style>\n",
       "<table border=\"1\" class=\"dataframe\">\n",
       "  <thead>\n",
       "    <tr style=\"text-align: right;\">\n",
       "      <th></th>\n",
       "      <th>feature_idx</th>\n",
       "      <th>cv_scores</th>\n",
       "      <th>avg_score</th>\n",
       "      <th>feature_names</th>\n",
       "      <th>ci_bound</th>\n",
       "      <th>std_dev</th>\n",
       "      <th>std_err</th>\n",
       "    </tr>\n",
       "  </thead>\n",
       "  <tbody>\n",
       "    <tr>\n",
       "      <th>1</th>\n",
       "      <td>(3,)</td>\n",
       "      <td>[0.6468795799391083]</td>\n",
       "      <td>0.64688</td>\n",
       "      <td>(Sr,)</td>\n",
       "      <td>NaN</td>\n",
       "      <td>0</td>\n",
       "      <td>NaN</td>\n",
       "    </tr>\n",
       "    <tr>\n",
       "      <th>2</th>\n",
       "      <td>(0, 3)</td>\n",
       "      <td>[0.6816211544552382]</td>\n",
       "      <td>0.681621</td>\n",
       "      <td>(Mo, Sr)</td>\n",
       "      <td>NaN</td>\n",
       "      <td>0</td>\n",
       "      <td>NaN</td>\n",
       "    </tr>\n",
       "    <tr>\n",
       "      <th>3</th>\n",
       "      <td>(0, 3, 7)</td>\n",
       "      <td>[0.7698843192569975]</td>\n",
       "      <td>0.769884</td>\n",
       "      <td>(Mo, Sr, Ca)</td>\n",
       "      <td>NaN</td>\n",
       "      <td>0</td>\n",
       "      <td>NaN</td>\n",
       "    </tr>\n",
       "    <tr>\n",
       "      <th>4</th>\n",
       "      <td>(0, 3, 5, 7)</td>\n",
       "      <td>[0.7898075877358419]</td>\n",
       "      <td>0.789808</td>\n",
       "      <td>(Mo, Sr, B, Ca)</td>\n",
       "      <td>NaN</td>\n",
       "      <td>0</td>\n",
       "      <td>NaN</td>\n",
       "    </tr>\n",
       "    <tr>\n",
       "      <th>5</th>\n",
       "      <td>(0, 2, 3, 5, 7)</td>\n",
       "      <td>[0.8160671568075337]</td>\n",
       "      <td>0.816067</td>\n",
       "      <td>(Mo, Cr, Sr, B, Ca)</td>\n",
       "      <td>NaN</td>\n",
       "      <td>0</td>\n",
       "      <td>NaN</td>\n",
       "    </tr>\n",
       "  </tbody>\n",
       "</table>\n",
       "</div>"
      ],
      "text/plain": [
       "       feature_idx             cv_scores avg_score        feature_names  \\\n",
       "1             (3,)  [0.6468795799391083]   0.64688                (Sr,)   \n",
       "2           (0, 3)  [0.6816211544552382]  0.681621             (Mo, Sr)   \n",
       "3        (0, 3, 7)  [0.7698843192569975]  0.769884         (Mo, Sr, Ca)   \n",
       "4     (0, 3, 5, 7)  [0.7898075877358419]  0.789808      (Mo, Sr, B, Ca)   \n",
       "5  (0, 2, 3, 5, 7)  [0.8160671568075337]  0.816067  (Mo, Cr, Sr, B, Ca)   \n",
       "\n",
       "  ci_bound std_dev std_err  \n",
       "1      NaN       0     NaN  \n",
       "2      NaN       0     NaN  \n",
       "3      NaN       0     NaN  \n",
       "4      NaN       0     NaN  \n",
       "5      NaN       0     NaN  "
      ]
     },
     "execution_count": 49,
     "metadata": {},
     "output_type": "execute_result"
    }
   ],
   "source": [
    "pd.DataFrame(fs.get_metric_dict()).T"
   ]
  },
  {
   "cell_type": "code",
   "execution_count": 50,
   "metadata": {},
   "outputs": [
    {
     "name": "stdout",
     "output_type": "stream",
     "text": [
      "전진선택법시 R^2: 0.8161\n",
      "전진선택법시 Feature Index:  (0, 2, 3, 5, 7)\n"
     ]
    }
   ],
   "source": [
    "print(f'전진선택법시 R^2: {fs.k_score_:.4f}')\n",
    "print('전진선택법시 Feature Index: ', fs.k_feature_idx_)"
   ]
  },
  {
   "cell_type": "markdown",
   "metadata": {},
   "source": [
    "[contents indices]\n",
    "1. [회귀분석 과제 리뷰](#1)   \n",
    "2. [VIF](#2)  \n",
    "3. [정성적 방안: 변수선택법 활용](#3)\n",
    "4. [기술적 방안](#4)\n",
    "5. [Adjusted $R^2$](#5)\n",
    "6. [명목형 변수 처리](#6)"
   ]
  },
  {
   "cell_type": "markdown",
   "metadata": {},
   "source": [
    "<a id='4'></a>"
   ]
  },
  {
   "cell_type": "markdown",
   "metadata": {},
   "source": [
    "## [기술적 방안](#0)\n",
    "1. [원변수 사용(릿지, 라소)](#ex21)\n",
    "2. [새로운 변수(주성분회귀)](#ex22)"
   ]
  },
  {
   "cell_type": "markdown",
   "metadata": {},
   "source": [
    "<a id='ex21'></a>"
   ]
  },
  {
   "cell_type": "markdown",
   "metadata": {},
   "source": [
    "### [원변수 사용](#4)\n",
    "[Reference](https://nurilee.com/data-science-model-summary-linear-ridge-lasso-elasticnet/)"
   ]
  },
  {
   "cell_type": "code",
   "execution_count": 51,
   "metadata": {},
   "outputs": [],
   "source": [
    "from sklearn.linear_model import Lasso\n",
    "from sklearn.linear_model import Ridge\n",
    "from sklearn.linear_model import ElasticNet"
   ]
  },
  {
   "cell_type": "code",
   "execution_count": 52,
   "metadata": {},
   "outputs": [],
   "source": [
    "# help(Lasso)"
   ]
  },
  {
   "cell_type": "code",
   "execution_count": 53,
   "metadata": {},
   "outputs": [
    {
     "data": {
      "text/plain": [
       "Lasso(alpha=0.1)"
      ]
     },
     "execution_count": 53,
     "metadata": {},
     "output_type": "execute_result"
    }
   ],
   "source": [
    "lasso = Lasso(alpha=0.1)\n",
    "lasso.fit(X, y)"
   ]
  },
  {
   "cell_type": "code",
   "execution_count": 54,
   "metadata": {},
   "outputs": [
    {
     "name": "stdout",
     "output_type": "stream",
     "text": [
      "R^2:  0.7269836133738441\n",
      "MSE:  23.04792218234018\n"
     ]
    }
   ],
   "source": [
    "y_hat = lasso.predict(X)\n",
    "\n",
    "print('R^2: ', lasso.score(X, y))\n",
    "print('MSE: ', mean_squared_error(y,y_hat))"
   ]
  },
  {
   "cell_type": "code",
   "execution_count": 55,
   "metadata": {},
   "outputs": [
    {
     "data": {
      "text/plain": [
       "Ridge(alpha=0.1)"
      ]
     },
     "execution_count": 55,
     "metadata": {},
     "output_type": "execute_result"
    }
   ],
   "source": [
    "ridge = Ridge(alpha=0.1)\n",
    "ridge.fit(X, y)"
   ]
  },
  {
   "cell_type": "code",
   "execution_count": 56,
   "metadata": {},
   "outputs": [
    {
     "name": "stdout",
     "output_type": "stream",
     "text": [
      "R^2:  0.7406002922228037\n",
      "MSE:  21.898408197589955\n"
     ]
    }
   ],
   "source": [
    "y_hat = ridge.predict(X)\n",
    "\n",
    "print('R^2: ', ridge.score(X, y))\n",
    "print('MSE: ', mean_squared_error(y,y_hat))"
   ]
  },
  {
   "cell_type": "code",
   "execution_count": 57,
   "metadata": {},
   "outputs": [
    {
     "name": "stdout",
     "output_type": "stream",
     "text": [
      "R^2:  0.7256798415564392\n",
      "MSE:  23.15798602049441\n"
     ]
    }
   ],
   "source": [
    "elasticnet = ElasticNet(alpha=0.1)\n",
    "elasticnet.fit(X, y)\n",
    "\n",
    "y_hat = elasticnet.predict(X)\n",
    "\n",
    "print('R^2: ', elasticnet.score(X, y))\n",
    "print('MSE: ', mean_squared_error(y,y_hat))"
   ]
  },
  {
   "cell_type": "code",
   "execution_count": 58,
   "metadata": {},
   "outputs": [
    {
     "name": "stdout",
     "output_type": "stream",
     "text": [
      "Alpha:0.0001, R2:0.74, MSE:21.894831186, RMSE:4.68\n",
      "Alpha:0.0010, R2:0.74, MSE:21.894831587, RMSE:4.68\n",
      "Alpha:0.0100, R2:0.74, MSE:21.894871212, RMSE:4.68\n",
      "Alpha:0.1000, R2:0.74, MSE:21.898408198, RMSE:4.68\n",
      "Alpha:0.3000, R2:0.74, MSE:21.920425642, RMSE:4.68\n",
      "Alpha:0.5000, R2:0.74, MSE:21.952712668, RMSE:4.69\n",
      "Alpha:0.7000, R2:0.74, MSE:21.988993749, RMSE:4.69\n",
      "Alpha:1.0000, R2:0.74, MSE:22.044452243, RMSE:4.70\n"
     ]
    }
   ],
   "source": [
    "alphas = [0.0001, 0.001, 0.01, 0.1, 0.3, 0.5, 0.7, 1]\n",
    "for a in alphas:\n",
    "    model = Ridge(alpha=a).fit(X,y)\n",
    "    score = model.score(X, y)\n",
    "    pred_y = model.predict(X)\n",
    "    mse = mean_squared_error(y, pred_y)\n",
    "    print(\"Alpha:{0:.4f}, R2:{1:.2f}, MSE:{2:.9f}, RMSE:{3:.2f}\"\n",
    "          .format(a, score, mse, np.sqrt(mse)))"
   ]
  },
  {
   "cell_type": "markdown",
   "metadata": {},
   "source": [
    "#### 실습: aromawine 데이터로 ridge 회귀 진행해보기 (alpha값 0.001, 0.01, 0.1)"
   ]
  },
  {
   "cell_type": "code",
   "execution_count": 59,
   "metadata": {},
   "outputs": [],
   "source": [
    "Input_wine = wine.iloc[:,:-1]\n",
    "Output_wine = wine.iloc[:,-1]"
   ]
  },
  {
   "cell_type": "code",
   "execution_count": 60,
   "metadata": {},
   "outputs": [],
   "source": [
    "alphas = [0.001, 0.01, 0.1]"
   ]
  },
  {
   "cell_type": "code",
   "execution_count": 61,
   "metadata": {},
   "outputs": [
    {
     "name": "stdout",
     "output_type": "stream",
     "text": [
      "Alpha:0.0010, R2:0.83, MSE:0.20, RMSE:0.44\n",
      "Alpha:0.0100, R2:0.81, MSE:0.22, RMSE:0.47\n",
      "Alpha:0.1000, R2:0.79, MSE:0.25, RMSE:0.50\n"
     ]
    }
   ],
   "source": [
    "for a in alphas:\n",
    "    model = Ridge(alpha=a).fit(Input_wine,Output_wine)\n",
    "    score = model.score(Input_wine, Output_wine)\n",
    "    pred_y = model.predict(Input_wine)\n",
    "    mse = mean_squared_error(Output_wine, pred_y)\n",
    "    print(\"Alpha:{0:.4f}, R2:{1:.2f}, MSE:{2:.2f}, RMSE:{3:.2f}\"\n",
    "          .format(a, score, mse, np.sqrt(mse)))"
   ]
  },
  {
   "cell_type": "markdown",
   "metadata": {},
   "source": [
    "<a id='ex22'></a>"
   ]
  },
  {
   "cell_type": "markdown",
   "metadata": {},
   "source": [
    "### [새로운 변수 사용 (주성분 분석)](#4)"
   ]
  },
  {
   "cell_type": "code",
   "execution_count": 62,
   "metadata": {},
   "outputs": [],
   "source": [
    "from sklearn.decomposition import PCA"
   ]
  },
  {
   "cell_type": "code",
   "execution_count": 63,
   "metadata": {},
   "outputs": [
    {
     "data": {
      "text/plain": [
       "array([[-119.81884272,   -5.56005586,   -3.17269264],\n",
       "       [-168.89015548,   10.11620863,  -30.78188677],\n",
       "       [-169.31170747,   14.0805323 ,  -16.75362821],\n",
       "       ...,\n",
       "       [-138.38716306,    0.9380922 ,  -37.28518133],\n",
       "       [-137.50517338,    4.2518251 ,  -35.98834188],\n",
       "       [-139.19033295,    1.00906423,  -29.77243231]])"
      ]
     },
     "execution_count": 63,
     "metadata": {},
     "output_type": "execute_result"
    }
   ],
   "source": [
    "pca = PCA(n_components=3)\n",
    "printcipalComponents = pca.fit_transform(X)\n",
    "printcipalComponents"
   ]
  },
  {
   "cell_type": "code",
   "execution_count": 64,
   "metadata": {},
   "outputs": [
    {
     "name": "stdout",
     "output_type": "stream",
     "text": [
      "주성분의 개별 분산량:  [0.80582318 0.16305197 0.02134861]\n",
      "모든 주성분의 분산량 합:  0.9902237521669699\n"
     ]
    }
   ],
   "source": [
    "print('주성분의 개별 분산량: ', pca.explained_variance_ratio_)\n",
    "print('모든 주성분의 분산량 합: ', sum(pca.explained_variance_ratio_))"
   ]
  },
  {
   "cell_type": "code",
   "execution_count": 65,
   "metadata": {},
   "outputs": [
    {
     "data": {
      "text/plain": [
       "LinearRegression()"
      ]
     },
     "execution_count": 65,
     "metadata": {},
     "output_type": "execute_result"
    }
   ],
   "source": [
    "rl = LinearRegression()\n",
    "rl.fit(printcipalComponents,y)"
   ]
  },
  {
   "cell_type": "markdown",
   "metadata": {},
   "source": [
    "[contents indices]\n",
    "1. [회귀분석 과제 리뷰](#1)   \n",
    "2. [VIF](#2)  \n",
    "3. [정성적 방안: 변수선택법 활용](#3)\n",
    "4. [기술적 방안](#4)\n",
    "5. [Adjusted $R^2$](#5)\n",
    "6. [명목형 변수 처리](#6)"
   ]
  },
  {
   "cell_type": "markdown",
   "metadata": {},
   "source": [
    "<a id= '5'></a>"
   ]
  },
  {
   "cell_type": "markdown",
   "metadata": {},
   "source": [
    "## [Adjusted $R^2$](#0)"
   ]
  },
  {
   "cell_type": "code",
   "execution_count": null,
   "metadata": {},
   "outputs": [],
   "source": [
    "model = LinearRegression()\n",
    "model.fit(X, y)"
   ]
  },
  {
   "cell_type": "code",
   "execution_count": null,
   "metadata": {},
   "outputs": [],
   "source": [
    "y_hat = model.predict(X)\n",
    "SS_Residual = sum((y-y_hat)**2)       \n",
    "SS_Total = sum((y-np.mean(y))**2)     \n",
    "r_squared = 1 - (float(SS_Residual))/SS_Total\n",
    "adjusted_r_squared = 1 - (1-r_squared)*(len(y)-1)/(len(y)-X.shape[1]-1)\n",
    "print ('R^2: ', r_squared)\n",
    "print('Adjusted R^2: ', adjusted_r_squared)\n",
    "\n",
    "# scikit learn으로 계산\n",
    "print('*'*30)\n",
    "print ('R^2: ', model.score(X, y))\n",
    "print('Adjusted R^2: ',  1 - (1-model.score(X, y))*(len(y)-1)/(len(y)-X.shape[1]-1))"
   ]
  },
  {
   "cell_type": "code",
   "execution_count": 72,
   "metadata": {},
   "outputs": [
    {
     "data": {
      "image/png": "[encoded data removed]",
      "text/plain": [
       "<IPython.core.display.Image object>"
      ]
     },
     "execution_count": 72,
     "metadata": {},
     "output_type": "execute_result"
    }
   ],
   "source": [
    "from IPython.display import Image\n",
    "\n",
    "Image(\"r^2, adjusted r^2.png\")"
   ]
  },
  {
   "cell_type": "markdown",
   "metadata": {},
   "source": [
    "#### 실습: aromawine 데이터 adjusted r^2 값 구하기"
   ]
  },
  {
   "cell_type": "code",
   "execution_count": 66,
   "metadata": {},
   "outputs": [],
   "source": [
    "Input_wine = wine.iloc[:,:-1]\n",
    "Output_wine = wine.iloc[:,-1]"
   ]
  },
  {
   "cell_type": "code",
   "execution_count": 67,
   "metadata": {},
   "outputs": [
    {
     "data": {
      "text/plain": [
       "LinearRegression()"
      ]
     },
     "execution_count": 67,
     "metadata": {},
     "output_type": "execute_result"
    }
   ],
   "source": [
    "model = LinearRegression()\n",
    "model.fit(Input_wine, Output_wine)"
   ]
  },
  {
   "cell_type": "code",
   "execution_count": 68,
   "metadata": {},
   "outputs": [
    {
     "name": "stdout",
     "output_type": "stream",
     "text": [
      "******************************\n",
      "R^2:  0.8354464499560966\n",
      "Adjusted R^2:  0.7367143199297546\n"
     ]
    }
   ],
   "source": [
    "# scikit learn으로 계산\n",
    "print('*'*30)\n",
    "print ('R^2: ', model.score(Input_wine, Output_wine))\n",
    "print('Adjusted R^2: ',  \n",
    "      1 - (1-model.score(Input_wine, Output_wine)) * (len(Output_wine)-1) \n",
    "      / (len(Output_wine)-Input_wine.shape[1]-1))"
   ]
  },
  {
   "cell_type": "markdown",
   "metadata": {},
   "source": [
    "<a id='6'></a>"
   ]
  },
  {
   "cell_type": "markdown",
   "metadata": {},
   "source": [
    "## [명목형 변수 처리](#0)"
   ]
  },
  {
   "cell_type": "code",
   "execution_count": 73,
   "metadata": {},
   "outputs": [
    {
     "data": {
      "text/html": [
       "<div>\n",
       "<style scoped>\n",
       "    .dataframe tbody tr th:only-of-type {\n",
       "        vertical-align: middle;\n",
       "    }\n",
       "\n",
       "    .dataframe tbody tr th {\n",
       "        vertical-align: top;\n",
       "    }\n",
       "\n",
       "    .dataframe thead th {\n",
       "        text-align: right;\n",
       "    }\n",
       "</style>\n",
       "<table border=\"1\" class=\"dataframe\">\n",
       "  <thead>\n",
       "    <tr style=\"text-align: right;\">\n",
       "      <th></th>\n",
       "      <th>ID</th>\n",
       "      <th>최종가중치</th>\n",
       "      <th>학교ID</th>\n",
       "      <th>도시규모</th>\n",
       "      <th>도시규모별분석용</th>\n",
       "      <th>학년도</th>\n",
       "      <th>광역시도</th>\n",
       "      <th>시도별</th>\n",
       "      <th>학교급별</th>\n",
       "      <th>학교명</th>\n",
       "      <th>...</th>\n",
       "      <th>키</th>\n",
       "      <th>몸무게</th>\n",
       "      <th>혈당식전mgdl</th>\n",
       "      <th>총콜레스테롤mgdl</th>\n",
       "      <th>ASTUL</th>\n",
       "      <th>ALTUL</th>\n",
       "      <th>혈색소gdl</th>\n",
       "      <th>간염검사</th>\n",
       "      <th>수축기</th>\n",
       "      <th>이완기</th>\n",
       "    </tr>\n",
       "  </thead>\n",
       "  <tbody>\n",
       "    <tr>\n",
       "      <th>0</th>\n",
       "      <td>Aa011남10101</td>\n",
       "      <td>169.550665</td>\n",
       "      <td>Aa01</td>\n",
       "      <td>대도시/중소도시</td>\n",
       "      <td>특별/광역시</td>\n",
       "      <td>2015</td>\n",
       "      <td>서울</td>\n",
       "      <td>서울특별시교육청</td>\n",
       "      <td>1</td>\n",
       "      <td>서울대도초등학교</td>\n",
       "      <td>...</td>\n",
       "      <td>125.8</td>\n",
       "      <td>27.3</td>\n",
       "      <td>NaN</td>\n",
       "      <td>NaN</td>\n",
       "      <td>NaN</td>\n",
       "      <td>NaN</td>\n",
       "      <td>NaN</td>\n",
       "      <td>NaN</td>\n",
       "      <td>77.0</td>\n",
       "      <td>58.0</td>\n",
       "    </tr>\n",
       "    <tr>\n",
       "      <th>1</th>\n",
       "      <td>Aa011남10102</td>\n",
       "      <td>169.550665</td>\n",
       "      <td>Aa01</td>\n",
       "      <td>대도시/중소도시</td>\n",
       "      <td>특별/광역시</td>\n",
       "      <td>2015</td>\n",
       "      <td>서울</td>\n",
       "      <td>서울특별시교육청</td>\n",
       "      <td>1</td>\n",
       "      <td>서울대도초등학교</td>\n",
       "      <td>...</td>\n",
       "      <td>124.3</td>\n",
       "      <td>25.4</td>\n",
       "      <td>NaN</td>\n",
       "      <td>NaN</td>\n",
       "      <td>NaN</td>\n",
       "      <td>NaN</td>\n",
       "      <td>NaN</td>\n",
       "      <td>NaN</td>\n",
       "      <td>83.0</td>\n",
       "      <td>51.0</td>\n",
       "    </tr>\n",
       "    <tr>\n",
       "      <th>2</th>\n",
       "      <td>Aa011남10103</td>\n",
       "      <td>169.550665</td>\n",
       "      <td>Aa01</td>\n",
       "      <td>대도시/중소도시</td>\n",
       "      <td>특별/광역시</td>\n",
       "      <td>2015</td>\n",
       "      <td>서울</td>\n",
       "      <td>서울특별시교육청</td>\n",
       "      <td>1</td>\n",
       "      <td>서울대도초등학교</td>\n",
       "      <td>...</td>\n",
       "      <td>119.2</td>\n",
       "      <td>23.5</td>\n",
       "      <td>NaN</td>\n",
       "      <td>NaN</td>\n",
       "      <td>NaN</td>\n",
       "      <td>NaN</td>\n",
       "      <td>NaN</td>\n",
       "      <td>NaN</td>\n",
       "      <td>103.0</td>\n",
       "      <td>65.0</td>\n",
       "    </tr>\n",
       "    <tr>\n",
       "      <th>3</th>\n",
       "      <td>Aa011남10104</td>\n",
       "      <td>169.550665</td>\n",
       "      <td>Aa01</td>\n",
       "      <td>대도시/중소도시</td>\n",
       "      <td>특별/광역시</td>\n",
       "      <td>2015</td>\n",
       "      <td>서울</td>\n",
       "      <td>서울특별시교육청</td>\n",
       "      <td>1</td>\n",
       "      <td>서울대도초등학교</td>\n",
       "      <td>...</td>\n",
       "      <td>115.0</td>\n",
       "      <td>20.0</td>\n",
       "      <td>NaN</td>\n",
       "      <td>NaN</td>\n",
       "      <td>NaN</td>\n",
       "      <td>NaN</td>\n",
       "      <td>NaN</td>\n",
       "      <td>NaN</td>\n",
       "      <td>92.0</td>\n",
       "      <td>66.0</td>\n",
       "    </tr>\n",
       "    <tr>\n",
       "      <th>4</th>\n",
       "      <td>Aa011남10105</td>\n",
       "      <td>169.550665</td>\n",
       "      <td>Aa01</td>\n",
       "      <td>대도시/중소도시</td>\n",
       "      <td>특별/광역시</td>\n",
       "      <td>2015</td>\n",
       "      <td>서울</td>\n",
       "      <td>서울특별시교육청</td>\n",
       "      <td>1</td>\n",
       "      <td>서울대도초등학교</td>\n",
       "      <td>...</td>\n",
       "      <td>120.0</td>\n",
       "      <td>33.5</td>\n",
       "      <td>NaN</td>\n",
       "      <td>NaN</td>\n",
       "      <td>NaN</td>\n",
       "      <td>NaN</td>\n",
       "      <td>NaN</td>\n",
       "      <td>NaN</td>\n",
       "      <td>102.0</td>\n",
       "      <td>59.0</td>\n",
       "    </tr>\n",
       "  </tbody>\n",
       "</table>\n",
       "<p>5 rows × 25 columns</p>\n",
       "</div>"
      ],
      "text/plain": [
       "            ID       최종가중치  학교ID      도시규모 도시규모별분석용   학년도 광역시도       시도별  \\\n",
       "0  Aa011남10101  169.550665  Aa01  대도시/중소도시   특별/광역시  2015   서울  서울특별시교육청   \n",
       "1  Aa011남10102  169.550665  Aa01  대도시/중소도시   특별/광역시  2015   서울  서울특별시교육청   \n",
       "2  Aa011남10103  169.550665  Aa01  대도시/중소도시   특별/광역시  2015   서울  서울특별시교육청   \n",
       "3  Aa011남10104  169.550665  Aa01  대도시/중소도시   특별/광역시  2015   서울  서울특별시교육청   \n",
       "4  Aa011남10105  169.550665  Aa01  대도시/중소도시   특별/광역시  2015   서울  서울특별시교육청   \n",
       "\n",
       "   학교급별       학교명  ...      키   몸무게  혈당식전mgdl 총콜레스테롤mgdl  ASTUL  ALTUL  \\\n",
       "0     1  서울대도초등학교  ...  125.8  27.3       NaN        NaN    NaN    NaN   \n",
       "1     1  서울대도초등학교  ...  124.3  25.4       NaN        NaN    NaN    NaN   \n",
       "2     1  서울대도초등학교  ...  119.2  23.5       NaN        NaN    NaN    NaN   \n",
       "3     1  서울대도초등학교  ...  115.0  20.0       NaN        NaN    NaN    NaN   \n",
       "4     1  서울대도초등학교  ...  120.0  33.5       NaN        NaN    NaN    NaN   \n",
       "\n",
       "   혈색소gdl  간염검사    수축기   이완기  \n",
       "0     NaN   NaN   77.0  58.0  \n",
       "1     NaN   NaN   83.0  51.0  \n",
       "2     NaN   NaN  103.0  65.0  \n",
       "3     NaN   NaN   92.0  66.0  \n",
       "4     NaN   NaN  102.0  59.0  \n",
       "\n",
       "[5 rows x 25 columns]"
      ]
     },
     "execution_count": 73,
     "metadata": {},
     "output_type": "execute_result"
    }
   ],
   "source": [
    "df = pd.read_csv('student.csv', engine = 'python')\n",
    "df.head()"
   ]
  },
  {
   "cell_type": "code",
   "execution_count": null,
   "metadata": {},
   "outputs": [],
   "source": [
    "data = df.loc[:,['성별', '키','몸무게']]\n",
    "data.head()"
   ]
  },
  {
   "cell_type": "code",
   "execution_count": null,
   "metadata": {},
   "outputs": [],
   "source": [
    "data.isnull().sum()"
   ]
  },
  {
   "cell_type": "code",
   "execution_count": null,
   "metadata": {},
   "outputs": [],
   "source": [
    "data.dropna(inplace=True)\n",
    "print(data.isnull().sum())"
   ]
  },
  {
   "cell_type": "code",
   "execution_count": null,
   "metadata": {},
   "outputs": [],
   "source": [
    "X = data.loc[:, ['성별', '키']]\n",
    "y = data.loc[:, ['몸무게']]"
   ]
  },
  {
   "cell_type": "code",
   "execution_count": null,
   "metadata": {},
   "outputs": [],
   "source": [
    "xx = pd.get_dummies(X)\n",
    "xx"
   ]
  },
  {
   "cell_type": "code",
   "execution_count": null,
   "metadata": {},
   "outputs": [],
   "source": [
    "X = xx.values\n",
    "y = y.values\n",
    "\n",
    "rl = LinearRegression()\n",
    "rl.fit(X,y)\n",
    "\n",
    "print('기울기: ',rl.coef_)\n",
    "print('절편:', rl.intercept_)\n",
    "\n",
    "y_hat = rl.predict(X)\n",
    "\n",
    "print('R^2: ', rl.score(X, y))\n",
    "print('MSE: ', mean_squared_error(y,y_hat))"
   ]
  },
  {
   "cell_type": "code",
   "execution_count": null,
   "metadata": {},
   "outputs": [],
   "source": [
    "data = df.loc[:,['성별', '키','몸무게']]\n",
    "data.dropna(inplace=True)\n",
    "data.head()"
   ]
  },
  {
   "cell_type": "code",
   "execution_count": null,
   "metadata": {},
   "outputs": [],
   "source": [
    "mapping = {'남':1, '여':0}\n",
    "data['성별'] = data['성별'].map(mapping)\n",
    "data.head()"
   ]
  },
  {
   "cell_type": "code",
   "execution_count": null,
   "metadata": {},
   "outputs": [],
   "source": []
  },
  {
   "cell_type": "markdown",
   "metadata": {},
   "source": [
    "### 실습: titanic data, Embarked(승선한 항구명) 데이터 dummy variable / mapping"
   ]
  },
  {
   "cell_type": "code",
   "execution_count": 74,
   "metadata": {},
   "outputs": [
    {
     "data": {
      "text/html": [
       "<div>\n",
       "<style scoped>\n",
       "    .dataframe tbody tr th:only-of-type {\n",
       "        vertical-align: middle;\n",
       "    }\n",
       "\n",
       "    .dataframe tbody tr th {\n",
       "        vertical-align: top;\n",
       "    }\n",
       "\n",
       "    .dataframe thead th {\n",
       "        text-align: right;\n",
       "    }\n",
       "</style>\n",
       "<table border=\"1\" class=\"dataframe\">\n",
       "  <thead>\n",
       "    <tr style=\"text-align: right;\">\n",
       "      <th></th>\n",
       "      <th>Pclass</th>\n",
       "      <th>Sex</th>\n",
       "      <th>Age</th>\n",
       "      <th>SibSp</th>\n",
       "      <th>Parch</th>\n",
       "      <th>Fare</th>\n",
       "      <th>Embarked</th>\n",
       "      <th>Survived</th>\n",
       "    </tr>\n",
       "  </thead>\n",
       "  <tbody>\n",
       "    <tr>\n",
       "      <th>0</th>\n",
       "      <td>3</td>\n",
       "      <td>male</td>\n",
       "      <td>22.0</td>\n",
       "      <td>1</td>\n",
       "      <td>0</td>\n",
       "      <td>7.2500</td>\n",
       "      <td>S</td>\n",
       "      <td>0</td>\n",
       "    </tr>\n",
       "    <tr>\n",
       "      <th>1</th>\n",
       "      <td>1</td>\n",
       "      <td>female</td>\n",
       "      <td>38.0</td>\n",
       "      <td>1</td>\n",
       "      <td>0</td>\n",
       "      <td>71.2833</td>\n",
       "      <td>C</td>\n",
       "      <td>1</td>\n",
       "    </tr>\n",
       "    <tr>\n",
       "      <th>2</th>\n",
       "      <td>3</td>\n",
       "      <td>female</td>\n",
       "      <td>26.0</td>\n",
       "      <td>0</td>\n",
       "      <td>0</td>\n",
       "      <td>7.9250</td>\n",
       "      <td>S</td>\n",
       "      <td>1</td>\n",
       "    </tr>\n",
       "    <tr>\n",
       "      <th>3</th>\n",
       "      <td>1</td>\n",
       "      <td>female</td>\n",
       "      <td>35.0</td>\n",
       "      <td>1</td>\n",
       "      <td>0</td>\n",
       "      <td>53.1000</td>\n",
       "      <td>S</td>\n",
       "      <td>1</td>\n",
       "    </tr>\n",
       "    <tr>\n",
       "      <th>4</th>\n",
       "      <td>3</td>\n",
       "      <td>male</td>\n",
       "      <td>35.0</td>\n",
       "      <td>0</td>\n",
       "      <td>0</td>\n",
       "      <td>8.0500</td>\n",
       "      <td>S</td>\n",
       "      <td>0</td>\n",
       "    </tr>\n",
       "  </tbody>\n",
       "</table>\n",
       "</div>"
      ],
      "text/plain": [
       "   Pclass     Sex   Age  SibSp  Parch     Fare Embarked  Survived\n",
       "0       3    male  22.0      1      0   7.2500        S         0\n",
       "1       1  female  38.0      1      0  71.2833        C         1\n",
       "2       3  female  26.0      0      0   7.9250        S         1\n",
       "3       1  female  35.0      1      0  53.1000        S         1\n",
       "4       3    male  35.0      0      0   8.0500        S         0"
      ]
     },
     "execution_count": 74,
     "metadata": {},
     "output_type": "execute_result"
    }
   ],
   "source": [
    "titanic = pd.read_csv('Titanic.csv', engine = 'python')\n",
    "titanic.head()"
   ]
  },
  {
   "cell_type": "code",
   "execution_count": 75,
   "metadata": {},
   "outputs": [
    {
     "name": "stdout",
     "output_type": "stream",
     "text": [
      "<class 'pandas.core.frame.DataFrame'>\n",
      "RangeIndex: 889 entries, 0 to 888\n",
      "Data columns (total 8 columns):\n",
      " #   Column    Non-Null Count  Dtype  \n",
      "---  ------    --------------  -----  \n",
      " 0   Pclass    889 non-null    int64  \n",
      " 1   Sex       889 non-null    object \n",
      " 2   Age       889 non-null    float64\n",
      " 3   SibSp     889 non-null    int64  \n",
      " 4   Parch     889 non-null    int64  \n",
      " 5   Fare      889 non-null    float64\n",
      " 6   Embarked  889 non-null    object \n",
      " 7   Survived  889 non-null    int64  \n",
      "dtypes: float64(2), int64(4), object(2)\n",
      "memory usage: 55.7+ KB\n"
     ]
    }
   ],
   "source": [
    "titanic.info()"
   ]
  },
  {
   "cell_type": "code",
   "execution_count": 76,
   "metadata": {},
   "outputs": [
    {
     "data": {
      "text/plain": [
       "array(['S', 'C', 'Q'], dtype=object)"
      ]
     },
     "execution_count": 76,
     "metadata": {},
     "output_type": "execute_result"
    }
   ],
   "source": [
    "titanic['Embarked'].unique()"
   ]
  },
  {
   "cell_type": "code",
   "execution_count": 77,
   "metadata": {},
   "outputs": [
    {
     "data": {
      "text/html": [
       "<div>\n",
       "<style scoped>\n",
       "    .dataframe tbody tr th:only-of-type {\n",
       "        vertical-align: middle;\n",
       "    }\n",
       "\n",
       "    .dataframe tbody tr th {\n",
       "        vertical-align: top;\n",
       "    }\n",
       "\n",
       "    .dataframe thead th {\n",
       "        text-align: right;\n",
       "    }\n",
       "</style>\n",
       "<table border=\"1\" class=\"dataframe\">\n",
       "  <thead>\n",
       "    <tr style=\"text-align: right;\">\n",
       "      <th></th>\n",
       "      <th>Pclass</th>\n",
       "      <th>Sex</th>\n",
       "      <th>Age</th>\n",
       "      <th>SibSp</th>\n",
       "      <th>Parch</th>\n",
       "      <th>Fare</th>\n",
       "      <th>Survived</th>\n",
       "      <th>Embarked_C</th>\n",
       "      <th>Embarked_Q</th>\n",
       "      <th>Embarked_S</th>\n",
       "    </tr>\n",
       "  </thead>\n",
       "  <tbody>\n",
       "    <tr>\n",
       "      <th>0</th>\n",
       "      <td>3</td>\n",
       "      <td>male</td>\n",
       "      <td>22.0</td>\n",
       "      <td>1</td>\n",
       "      <td>0</td>\n",
       "      <td>7.2500</td>\n",
       "      <td>0</td>\n",
       "      <td>0</td>\n",
       "      <td>0</td>\n",
       "      <td>1</td>\n",
       "    </tr>\n",
       "    <tr>\n",
       "      <th>1</th>\n",
       "      <td>1</td>\n",
       "      <td>female</td>\n",
       "      <td>38.0</td>\n",
       "      <td>1</td>\n",
       "      <td>0</td>\n",
       "      <td>71.2833</td>\n",
       "      <td>1</td>\n",
       "      <td>1</td>\n",
       "      <td>0</td>\n",
       "      <td>0</td>\n",
       "    </tr>\n",
       "    <tr>\n",
       "      <th>2</th>\n",
       "      <td>3</td>\n",
       "      <td>female</td>\n",
       "      <td>26.0</td>\n",
       "      <td>0</td>\n",
       "      <td>0</td>\n",
       "      <td>7.9250</td>\n",
       "      <td>1</td>\n",
       "      <td>0</td>\n",
       "      <td>0</td>\n",
       "      <td>1</td>\n",
       "    </tr>\n",
       "    <tr>\n",
       "      <th>3</th>\n",
       "      <td>1</td>\n",
       "      <td>female</td>\n",
       "      <td>35.0</td>\n",
       "      <td>1</td>\n",
       "      <td>0</td>\n",
       "      <td>53.1000</td>\n",
       "      <td>1</td>\n",
       "      <td>0</td>\n",
       "      <td>0</td>\n",
       "      <td>1</td>\n",
       "    </tr>\n",
       "    <tr>\n",
       "      <th>4</th>\n",
       "      <td>3</td>\n",
       "      <td>male</td>\n",
       "      <td>35.0</td>\n",
       "      <td>0</td>\n",
       "      <td>0</td>\n",
       "      <td>8.0500</td>\n",
       "      <td>0</td>\n",
       "      <td>0</td>\n",
       "      <td>0</td>\n",
       "      <td>1</td>\n",
       "    </tr>\n",
       "  </tbody>\n",
       "</table>\n",
       "</div>"
      ],
      "text/plain": [
       "   Pclass     Sex   Age  SibSp  Parch     Fare  Survived  Embarked_C  \\\n",
       "0       3    male  22.0      1      0   7.2500         0           0   \n",
       "1       1  female  38.0      1      0  71.2833         1           1   \n",
       "2       3  female  26.0      0      0   7.9250         1           0   \n",
       "3       1  female  35.0      1      0  53.1000         1           0   \n",
       "4       3    male  35.0      0      0   8.0500         0           0   \n",
       "\n",
       "   Embarked_Q  Embarked_S  \n",
       "0           0           1  \n",
       "1           0           0  \n",
       "2           0           1  \n",
       "3           0           1  \n",
       "4           0           1  "
      ]
     },
     "execution_count": 77,
     "metadata": {},
     "output_type": "execute_result"
    }
   ],
   "source": [
    "titanic_dummies = pd.get_dummies(titanic, columns = ['Embarked'])\n",
    "titanic_dummies.head()"
   ]
  },
  {
   "cell_type": "markdown",
   "metadata": {},
   "source": [
    "#### 참고: mapping"
   ]
  },
  {
   "cell_type": "code",
   "execution_count": 78,
   "metadata": {
    "scrolled": true
   },
   "outputs": [
    {
     "data": {
      "text/html": [
       "<div>\n",
       "<style scoped>\n",
       "    .dataframe tbody tr th:only-of-type {\n",
       "        vertical-align: middle;\n",
       "    }\n",
       "\n",
       "    .dataframe tbody tr th {\n",
       "        vertical-align: top;\n",
       "    }\n",
       "\n",
       "    .dataframe thead th {\n",
       "        text-align: right;\n",
       "    }\n",
       "</style>\n",
       "<table border=\"1\" class=\"dataframe\">\n",
       "  <thead>\n",
       "    <tr style=\"text-align: right;\">\n",
       "      <th></th>\n",
       "      <th>Pclass</th>\n",
       "      <th>Sex</th>\n",
       "      <th>Age</th>\n",
       "      <th>SibSp</th>\n",
       "      <th>Parch</th>\n",
       "      <th>Fare</th>\n",
       "      <th>Embarked</th>\n",
       "      <th>Survived</th>\n",
       "    </tr>\n",
       "  </thead>\n",
       "  <tbody>\n",
       "    <tr>\n",
       "      <th>0</th>\n",
       "      <td>3</td>\n",
       "      <td>male</td>\n",
       "      <td>22.0</td>\n",
       "      <td>1</td>\n",
       "      <td>0</td>\n",
       "      <td>7.2500</td>\n",
       "      <td>S</td>\n",
       "      <td>0</td>\n",
       "    </tr>\n",
       "    <tr>\n",
       "      <th>1</th>\n",
       "      <td>1</td>\n",
       "      <td>female</td>\n",
       "      <td>38.0</td>\n",
       "      <td>1</td>\n",
       "      <td>0</td>\n",
       "      <td>71.2833</td>\n",
       "      <td>C</td>\n",
       "      <td>1</td>\n",
       "    </tr>\n",
       "    <tr>\n",
       "      <th>2</th>\n",
       "      <td>3</td>\n",
       "      <td>female</td>\n",
       "      <td>26.0</td>\n",
       "      <td>0</td>\n",
       "      <td>0</td>\n",
       "      <td>7.9250</td>\n",
       "      <td>S</td>\n",
       "      <td>1</td>\n",
       "    </tr>\n",
       "    <tr>\n",
       "      <th>3</th>\n",
       "      <td>1</td>\n",
       "      <td>female</td>\n",
       "      <td>35.0</td>\n",
       "      <td>1</td>\n",
       "      <td>0</td>\n",
       "      <td>53.1000</td>\n",
       "      <td>S</td>\n",
       "      <td>1</td>\n",
       "    </tr>\n",
       "    <tr>\n",
       "      <th>4</th>\n",
       "      <td>3</td>\n",
       "      <td>male</td>\n",
       "      <td>35.0</td>\n",
       "      <td>0</td>\n",
       "      <td>0</td>\n",
       "      <td>8.0500</td>\n",
       "      <td>S</td>\n",
       "      <td>0</td>\n",
       "    </tr>\n",
       "  </tbody>\n",
       "</table>\n",
       "</div>"
      ],
      "text/plain": [
       "   Pclass     Sex   Age  SibSp  Parch     Fare Embarked  Survived\n",
       "0       3    male  22.0      1      0   7.2500        S         0\n",
       "1       1  female  38.0      1      0  71.2833        C         1\n",
       "2       3  female  26.0      0      0   7.9250        S         1\n",
       "3       1  female  35.0      1      0  53.1000        S         1\n",
       "4       3    male  35.0      0      0   8.0500        S         0"
      ]
     },
     "execution_count": 78,
     "metadata": {},
     "output_type": "execute_result"
    }
   ],
   "source": [
    "titanic = pd.read_csv('Titanic.csv', engine = 'python')\n",
    "titanic.head()"
   ]
  },
  {
   "cell_type": "code",
   "execution_count": 79,
   "metadata": {},
   "outputs": [
    {
     "data": {
      "text/html": [
       "<div>\n",
       "<style scoped>\n",
       "    .dataframe tbody tr th:only-of-type {\n",
       "        vertical-align: middle;\n",
       "    }\n",
       "\n",
       "    .dataframe tbody tr th {\n",
       "        vertical-align: top;\n",
       "    }\n",
       "\n",
       "    .dataframe thead th {\n",
       "        text-align: right;\n",
       "    }\n",
       "</style>\n",
       "<table border=\"1\" class=\"dataframe\">\n",
       "  <thead>\n",
       "    <tr style=\"text-align: right;\">\n",
       "      <th></th>\n",
       "      <th>Pclass</th>\n",
       "      <th>Sex</th>\n",
       "      <th>Age</th>\n",
       "      <th>SibSp</th>\n",
       "      <th>Parch</th>\n",
       "      <th>Fare</th>\n",
       "      <th>Embarked</th>\n",
       "      <th>Survived</th>\n",
       "    </tr>\n",
       "  </thead>\n",
       "  <tbody>\n",
       "    <tr>\n",
       "      <th>0</th>\n",
       "      <td>3</td>\n",
       "      <td>male</td>\n",
       "      <td>22.0</td>\n",
       "      <td>1</td>\n",
       "      <td>0</td>\n",
       "      <td>7.2500</td>\n",
       "      <td>1</td>\n",
       "      <td>0</td>\n",
       "    </tr>\n",
       "    <tr>\n",
       "      <th>1</th>\n",
       "      <td>1</td>\n",
       "      <td>female</td>\n",
       "      <td>38.0</td>\n",
       "      <td>1</td>\n",
       "      <td>0</td>\n",
       "      <td>71.2833</td>\n",
       "      <td>2</td>\n",
       "      <td>1</td>\n",
       "    </tr>\n",
       "    <tr>\n",
       "      <th>2</th>\n",
       "      <td>3</td>\n",
       "      <td>female</td>\n",
       "      <td>26.0</td>\n",
       "      <td>0</td>\n",
       "      <td>0</td>\n",
       "      <td>7.9250</td>\n",
       "      <td>1</td>\n",
       "      <td>1</td>\n",
       "    </tr>\n",
       "    <tr>\n",
       "      <th>3</th>\n",
       "      <td>1</td>\n",
       "      <td>female</td>\n",
       "      <td>35.0</td>\n",
       "      <td>1</td>\n",
       "      <td>0</td>\n",
       "      <td>53.1000</td>\n",
       "      <td>1</td>\n",
       "      <td>1</td>\n",
       "    </tr>\n",
       "    <tr>\n",
       "      <th>4</th>\n",
       "      <td>3</td>\n",
       "      <td>male</td>\n",
       "      <td>35.0</td>\n",
       "      <td>0</td>\n",
       "      <td>0</td>\n",
       "      <td>8.0500</td>\n",
       "      <td>1</td>\n",
       "      <td>0</td>\n",
       "    </tr>\n",
       "  </tbody>\n",
       "</table>\n",
       "</div>"
      ],
      "text/plain": [
       "   Pclass     Sex   Age  SibSp  Parch     Fare  Embarked  Survived\n",
       "0       3    male  22.0      1      0   7.2500         1         0\n",
       "1       1  female  38.0      1      0  71.2833         2         1\n",
       "2       3  female  26.0      0      0   7.9250         1         1\n",
       "3       1  female  35.0      1      0  53.1000         1         1\n",
       "4       3    male  35.0      0      0   8.0500         1         0"
      ]
     },
     "execution_count": 79,
     "metadata": {},
     "output_type": "execute_result"
    }
   ],
   "source": [
    "mapping = {'S':1, 'C':2, 'Q':3}\n",
    "titanic['Embarked'] = titanic['Embarked'].map(mapping)\n",
    "titanic.head()"
   ]
  },
  {
   "cell_type": "markdown",
   "metadata": {},
   "source": [
    "[contents indices]\n",
    "1. [회귀분석 과제 리뷰](#1)   \n",
    "2. [VIF](#2)  \n",
    "3. [정성적 방안: 변수선택법 활용](#3)\n",
    "4. [기술적 방안](#4)\n",
    "5. [Adjusted $R^2$](#5)\n",
    "6. [명목형 변수 처리](#6)"
   ]
  }
 ],
 "metadata": {
  "kernelspec": {
   "display_name": "Python 3",
   "language": "python",
   "name": "python3"
  },
  "language_info": {
   "codemirror_mode": {
    "name": "ipython",
    "version": 3
   },
   "file_extension": ".py",
   "mimetype": "text/x-python",
   "name": "python",
   "nbconvert_exporter": "python",
   "pygments_lexer": "ipython3",
   "version": "3.8.3"
  }
 },
 "nbformat": 4,
 "nbformat_minor": 4
}
