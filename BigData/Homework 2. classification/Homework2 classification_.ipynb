{
 "cells": [
  {
   "cell_type": "markdown",
   "metadata": {},
   "source": [
    "# Homework 2: Classification"
   ]
  },
  {
   "cell_type": "markdown",
   "metadata": {},
   "source": [
    "아래 데이터는 이번 과제에 사용할 \"Cardio\" 데이터입니다.   \n",
    "\n",
    "각 컬럼에 대한 간단한 설명은 다음과 같습니다. \n",
    "1.\tAge: 나이 (integer)   \n",
    "2.\tHeight: 키(cm) (float)   \n",
    "3.\tWeight: 몸무게(kg) (float)   \n",
    "4.\tGender: 성별 {‘M’, ‘F’} (binary)   \n",
    "5.\tAp_hi: 수축기 혈압 (integer)   \n",
    "6.\tAp_lo: 이완기 혈압 (integer)   \n",
    "7.\tCholesterol: 콜레스테롤 상태 (categorical)   \n",
    "8.\tGluc: 포도당 상태 (categorical)   \n",
    "9.\tSmoke: 흡연 여부 (binary)   \n",
    "10.\tAlco: 음주 여부 (binary)    \n",
    "11.\tActive: 신체 활동(운동) 여부 (binary)   \n",
    "12.\tCardio: 심혈관계질환 여부 (binary, target variable)    \n",
    "\n",
    "종속변수는 cardio입니다."
   ]
  },
  {
   "cell_type": "code",
   "execution_count": 1,
   "metadata": {},
   "outputs": [],
   "source": [
    "import numpy as np\n",
    "import pandas as pd"
   ]
  },
  {
   "cell_type": "code",
   "execution_count": 2,
   "metadata": {
    "scrolled": true
   },
   "outputs": [],
   "source": [
    "df = pd.read_csv('./Cardio.csv')"
   ]
  },
  {
   "cell_type": "code",
   "execution_count": 3,
   "metadata": {
    "scrolled": true
   },
   "outputs": [
    {
     "data": {
      "text/html": [
       "<div>\n",
       "<style scoped>\n",
       "    .dataframe tbody tr th:only-of-type {\n",
       "        vertical-align: middle;\n",
       "    }\n",
       "\n",
       "    .dataframe tbody tr th {\n",
       "        vertical-align: top;\n",
       "    }\n",
       "\n",
       "    .dataframe thead th {\n",
       "        text-align: right;\n",
       "    }\n",
       "</style>\n",
       "<table border=\"1\" class=\"dataframe\">\n",
       "  <thead>\n",
       "    <tr style=\"text-align: right;\">\n",
       "      <th></th>\n",
       "      <th>age</th>\n",
       "      <th>gender</th>\n",
       "      <th>height</th>\n",
       "      <th>weight</th>\n",
       "      <th>ap_hi</th>\n",
       "      <th>ap_lo</th>\n",
       "      <th>cholesterol</th>\n",
       "      <th>gluc</th>\n",
       "      <th>smoke</th>\n",
       "      <th>alco</th>\n",
       "      <th>active</th>\n",
       "      <th>cardio</th>\n",
       "    </tr>\n",
       "  </thead>\n",
       "  <tbody>\n",
       "    <tr>\n",
       "      <th>0</th>\n",
       "      <td>61</td>\n",
       "      <td>F</td>\n",
       "      <td>155</td>\n",
       "      <td>69.0</td>\n",
       "      <td>130</td>\n",
       "      <td>80</td>\n",
       "      <td>above normal</td>\n",
       "      <td>above normal</td>\n",
       "      <td>no</td>\n",
       "      <td>no</td>\n",
       "      <td>yes</td>\n",
       "      <td>no</td>\n",
       "    </tr>\n",
       "    <tr>\n",
       "      <th>1</th>\n",
       "      <td>40</td>\n",
       "      <td>F</td>\n",
       "      <td>163</td>\n",
       "      <td>71.0</td>\n",
       "      <td>110</td>\n",
       "      <td>70</td>\n",
       "      <td>normal</td>\n",
       "      <td>normal</td>\n",
       "      <td>no</td>\n",
       "      <td>no</td>\n",
       "      <td>yes</td>\n",
       "      <td>yes</td>\n",
       "    </tr>\n",
       "    <tr>\n",
       "      <th>2</th>\n",
       "      <td>60</td>\n",
       "      <td>F</td>\n",
       "      <td>165</td>\n",
       "      <td>70.0</td>\n",
       "      <td>120</td>\n",
       "      <td>80</td>\n",
       "      <td>normal</td>\n",
       "      <td>normal</td>\n",
       "      <td>no</td>\n",
       "      <td>no</td>\n",
       "      <td>yes</td>\n",
       "      <td>no</td>\n",
       "    </tr>\n",
       "    <tr>\n",
       "      <th>3</th>\n",
       "      <td>39</td>\n",
       "      <td>M</td>\n",
       "      <td>165</td>\n",
       "      <td>85.0</td>\n",
       "      <td>120</td>\n",
       "      <td>80</td>\n",
       "      <td>normal</td>\n",
       "      <td>normal</td>\n",
       "      <td>yes</td>\n",
       "      <td>yes</td>\n",
       "      <td>yes</td>\n",
       "      <td>no</td>\n",
       "    </tr>\n",
       "    <tr>\n",
       "      <th>4</th>\n",
       "      <td>64</td>\n",
       "      <td>F</td>\n",
       "      <td>155</td>\n",
       "      <td>62.0</td>\n",
       "      <td>120</td>\n",
       "      <td>80</td>\n",
       "      <td>normal</td>\n",
       "      <td>normal</td>\n",
       "      <td>no</td>\n",
       "      <td>no</td>\n",
       "      <td>yes</td>\n",
       "      <td>no</td>\n",
       "    </tr>\n",
       "  </tbody>\n",
       "</table>\n",
       "</div>"
      ],
      "text/plain": [
       "   age gender  height  weight  ap_hi  ap_lo   cholesterol          gluc smoke  \\\n",
       "0   61      F     155    69.0    130     80  above normal  above normal    no   \n",
       "1   40      F     163    71.0    110     70        normal        normal    no   \n",
       "2   60      F     165    70.0    120     80        normal        normal    no   \n",
       "3   39      M     165    85.0    120     80        normal        normal   yes   \n",
       "4   64      F     155    62.0    120     80        normal        normal    no   \n",
       "\n",
       "  alco active cardio  \n",
       "0   no    yes     no  \n",
       "1   no    yes    yes  \n",
       "2   no    yes     no  \n",
       "3  yes    yes     no  \n",
       "4   no    yes     no  "
      ]
     },
     "execution_count": 3,
     "metadata": {},
     "output_type": "execute_result"
    }
   ],
   "source": [
    "df.head()"
   ]
  },
  {
   "cell_type": "code",
   "execution_count": 4,
   "metadata": {},
   "outputs": [
    {
     "data": {
      "text/html": [
       "<div>\n",
       "<style scoped>\n",
       "    .dataframe tbody tr th:only-of-type {\n",
       "        vertical-align: middle;\n",
       "    }\n",
       "\n",
       "    .dataframe tbody tr th {\n",
       "        vertical-align: top;\n",
       "    }\n",
       "\n",
       "    .dataframe thead th {\n",
       "        text-align: right;\n",
       "    }\n",
       "</style>\n",
       "<table border=\"1\" class=\"dataframe\">\n",
       "  <thead>\n",
       "    <tr style=\"text-align: right;\">\n",
       "      <th></th>\n",
       "      <th>age</th>\n",
       "      <th>height</th>\n",
       "      <th>weight</th>\n",
       "      <th>ap_hi</th>\n",
       "      <th>ap_lo</th>\n",
       "    </tr>\n",
       "  </thead>\n",
       "  <tbody>\n",
       "    <tr>\n",
       "      <th>0</th>\n",
       "      <td>61</td>\n",
       "      <td>155</td>\n",
       "      <td>69.0</td>\n",
       "      <td>130</td>\n",
       "      <td>80</td>\n",
       "    </tr>\n",
       "    <tr>\n",
       "      <th>1</th>\n",
       "      <td>40</td>\n",
       "      <td>163</td>\n",
       "      <td>71.0</td>\n",
       "      <td>110</td>\n",
       "      <td>70</td>\n",
       "    </tr>\n",
       "    <tr>\n",
       "      <th>2</th>\n",
       "      <td>60</td>\n",
       "      <td>165</td>\n",
       "      <td>70.0</td>\n",
       "      <td>120</td>\n",
       "      <td>80</td>\n",
       "    </tr>\n",
       "    <tr>\n",
       "      <th>3</th>\n",
       "      <td>39</td>\n",
       "      <td>165</td>\n",
       "      <td>85.0</td>\n",
       "      <td>120</td>\n",
       "      <td>80</td>\n",
       "    </tr>\n",
       "    <tr>\n",
       "      <th>4</th>\n",
       "      <td>64</td>\n",
       "      <td>155</td>\n",
       "      <td>62.0</td>\n",
       "      <td>120</td>\n",
       "      <td>80</td>\n",
       "    </tr>\n",
       "  </tbody>\n",
       "</table>\n",
       "</div>"
      ],
      "text/plain": [
       "   age  height  weight  ap_hi  ap_lo\n",
       "0   61     155    69.0    130     80\n",
       "1   40     163    71.0    110     70\n",
       "2   60     165    70.0    120     80\n",
       "3   39     165    85.0    120     80\n",
       "4   64     155    62.0    120     80"
      ]
     },
     "execution_count": 4,
     "metadata": {},
     "output_type": "execute_result"
    }
   ],
   "source": [
    "df[['age', 'height', 'weight', 'ap_hi', 'ap_lo']].head()"
   ]
  },
  {
   "cell_type": "markdown",
   "metadata": {},
   "source": [
    "## Question \n",
    "심혈관계질환 여부 ('cardio' = 1 or 0)을 예측하는 classification 문제를 해결하세요."
   ]
  },
  {
   "cell_type": "markdown",
   "metadata": {},
   "source": [
    "## [Guidline]\n",
    "0. [주어진 데이터를 모델에 사용할 수 있도록 전처리해주세요.](#0)\n",
    "1. [train과 test를 8:2로 나눠주세요.](#1)   \n",
    "2. [train에 대해서 로지스틱 모델을 학습시키고 모델을 평가해주세요.](#2)\n",
    "3. [train에 대해서 트리 모델을 학습시키고 모델을 평가해주세요.](#3)  \n",
    "4. [train에 대해서 랜덤 포레스트 모델을 학습시키고 모델을 평가해주세요.](#4)\n",
    "5. [트리 모델과 랜덤 포레스트 모델의 성능을 비교하고 왜 그런 차이가 났는 지 설명하세요.](#5)  \n",
    "    * 주피터 마크다운에 간략하게 적어 주시면 됩니다."
   ]
  },
  {
   "cell_type": "markdown",
   "metadata": {},
   "source": [
    "<a id='0'></a>"
   ]
  },
  {
   "cell_type": "markdown",
   "metadata": {},
   "source": [
    "## [0. 주어진 데이터를 모델에 사용할 수 있도록 전처리해주세요.](#0)"
   ]
  },
  {
   "cell_type": "markdown",
   "metadata": {},
   "source": [
    "Hint: cardio 데이터를 종속 변수로 사용하려면 no:0, yes:1 에 대응이 되야 하며 여러 numeric값이 아닌 다른 컬럼들에 대해서도 __비슷한__ 전처리가 가능합니다."
   ]
  },
  {
   "cell_type": "code",
   "execution_count": 5,
   "metadata": {},
   "outputs": [
    {
     "name": "stdout",
     "output_type": "stream",
     "text": [
      "<class 'pandas.core.frame.DataFrame'>\n",
      "RangeIndex: 69301 entries, 0 to 69300\n",
      "Data columns (total 12 columns):\n",
      " #   Column       Non-Null Count  Dtype  \n",
      "---  ------       --------------  -----  \n",
      " 0   age          69301 non-null  int64  \n",
      " 1   gender       69301 non-null  object \n",
      " 2   height       69301 non-null  int64  \n",
      " 3   weight       69301 non-null  float64\n",
      " 4   ap_hi        69301 non-null  int64  \n",
      " 5   ap_lo        69301 non-null  int64  \n",
      " 6   cholesterol  69301 non-null  object \n",
      " 7   gluc         69301 non-null  object \n",
      " 8   smoke        69301 non-null  object \n",
      " 9   alco         69301 non-null  object \n",
      " 10  active       69301 non-null  object \n",
      " 11  cardio       69301 non-null  object \n",
      "dtypes: float64(1), int64(4), object(7)\n",
      "memory usage: 6.3+ MB\n"
     ]
    }
   ],
   "source": [
    "df.info()"
   ]
  },
  {
   "cell_type": "markdown",
   "metadata": {},
   "source": [
    "먼저 numeric값이 아닌 컬럼 중에 0 또는 1로 이진분류가 되는 것은 각각의 값이 대응되도록 전처리"
   ]
  },
  {
   "cell_type": "code",
   "execution_count": 6,
   "metadata": {},
   "outputs": [
    {
     "data": {
      "text/html": [
       "<div>\n",
       "<style scoped>\n",
       "    .dataframe tbody tr th:only-of-type {\n",
       "        vertical-align: middle;\n",
       "    }\n",
       "\n",
       "    .dataframe tbody tr th {\n",
       "        vertical-align: top;\n",
       "    }\n",
       "\n",
       "    .dataframe thead th {\n",
       "        text-align: right;\n",
       "    }\n",
       "</style>\n",
       "<table border=\"1\" class=\"dataframe\">\n",
       "  <thead>\n",
       "    <tr style=\"text-align: right;\">\n",
       "      <th></th>\n",
       "      <th>age</th>\n",
       "      <th>gender</th>\n",
       "      <th>height</th>\n",
       "      <th>weight</th>\n",
       "      <th>ap_hi</th>\n",
       "      <th>ap_lo</th>\n",
       "      <th>cholesterol</th>\n",
       "      <th>gluc</th>\n",
       "      <th>smoke</th>\n",
       "      <th>alco</th>\n",
       "      <th>active</th>\n",
       "      <th>cardio</th>\n",
       "    </tr>\n",
       "  </thead>\n",
       "  <tbody>\n",
       "    <tr>\n",
       "      <th>0</th>\n",
       "      <td>61</td>\n",
       "      <td>0</td>\n",
       "      <td>155</td>\n",
       "      <td>69.0</td>\n",
       "      <td>130</td>\n",
       "      <td>80</td>\n",
       "      <td>above normal</td>\n",
       "      <td>above normal</td>\n",
       "      <td>0</td>\n",
       "      <td>0</td>\n",
       "      <td>1</td>\n",
       "      <td>0</td>\n",
       "    </tr>\n",
       "    <tr>\n",
       "      <th>1</th>\n",
       "      <td>40</td>\n",
       "      <td>0</td>\n",
       "      <td>163</td>\n",
       "      <td>71.0</td>\n",
       "      <td>110</td>\n",
       "      <td>70</td>\n",
       "      <td>normal</td>\n",
       "      <td>normal</td>\n",
       "      <td>0</td>\n",
       "      <td>0</td>\n",
       "      <td>1</td>\n",
       "      <td>1</td>\n",
       "    </tr>\n",
       "    <tr>\n",
       "      <th>2</th>\n",
       "      <td>60</td>\n",
       "      <td>0</td>\n",
       "      <td>165</td>\n",
       "      <td>70.0</td>\n",
       "      <td>120</td>\n",
       "      <td>80</td>\n",
       "      <td>normal</td>\n",
       "      <td>normal</td>\n",
       "      <td>0</td>\n",
       "      <td>0</td>\n",
       "      <td>1</td>\n",
       "      <td>0</td>\n",
       "    </tr>\n",
       "    <tr>\n",
       "      <th>3</th>\n",
       "      <td>39</td>\n",
       "      <td>1</td>\n",
       "      <td>165</td>\n",
       "      <td>85.0</td>\n",
       "      <td>120</td>\n",
       "      <td>80</td>\n",
       "      <td>normal</td>\n",
       "      <td>normal</td>\n",
       "      <td>1</td>\n",
       "      <td>1</td>\n",
       "      <td>1</td>\n",
       "      <td>0</td>\n",
       "    </tr>\n",
       "    <tr>\n",
       "      <th>4</th>\n",
       "      <td>64</td>\n",
       "      <td>0</td>\n",
       "      <td>155</td>\n",
       "      <td>62.0</td>\n",
       "      <td>120</td>\n",
       "      <td>80</td>\n",
       "      <td>normal</td>\n",
       "      <td>normal</td>\n",
       "      <td>0</td>\n",
       "      <td>0</td>\n",
       "      <td>1</td>\n",
       "      <td>0</td>\n",
       "    </tr>\n",
       "  </tbody>\n",
       "</table>\n",
       "</div>"
      ],
      "text/plain": [
       "   age  gender  height  weight  ap_hi  ap_lo   cholesterol          gluc  \\\n",
       "0   61       0     155    69.0    130     80  above normal  above normal   \n",
       "1   40       0     163    71.0    110     70        normal        normal   \n",
       "2   60       0     165    70.0    120     80        normal        normal   \n",
       "3   39       1     165    85.0    120     80        normal        normal   \n",
       "4   64       0     155    62.0    120     80        normal        normal   \n",
       "\n",
       "   smoke  alco  active  cardio  \n",
       "0      0     0       1       0  \n",
       "1      0     0       1       1  \n",
       "2      0     0       1       0  \n",
       "3      1     1       1       0  \n",
       "4      0     0       1       0  "
      ]
     },
     "execution_count": 6,
     "metadata": {},
     "output_type": "execute_result"
    }
   ],
   "source": [
    "gender_dict = {'M':1, 'F':0}\n",
    "smoke_dict = {'yes':1, 'no':0}\n",
    "alco_dict = {'yes':1, 'no':0}\n",
    "active_dict = {'yes':1, 'no':0}\n",
    "cardio_dict = {'yes':1, 'no':0}\n",
    "\n",
    "df['gender'] = df['gender'].map(gender_dict)\n",
    "df['smoke'] = df['smoke'].map(smoke_dict)\n",
    "df['alco'] = df['alco'].map(alco_dict)\n",
    "df['active'] = df['active'].map(active_dict)\n",
    "df['cardio'] = df['cardio'].map(cardio_dict)\n",
    "\n",
    "df.head()"
   ]
  },
  {
   "cell_type": "markdown",
   "metadata": {},
   "source": [
    "값이 3개 이상으로 분류되는 것은 one-hot-encoding을 한다"
   ]
  },
  {
   "cell_type": "code",
   "execution_count": 7,
   "metadata": {},
   "outputs": [
    {
     "data": {
      "text/html": [
       "<div>\n",
       "<style scoped>\n",
       "    .dataframe tbody tr th:only-of-type {\n",
       "        vertical-align: middle;\n",
       "    }\n",
       "\n",
       "    .dataframe tbody tr th {\n",
       "        vertical-align: top;\n",
       "    }\n",
       "\n",
       "    .dataframe thead th {\n",
       "        text-align: right;\n",
       "    }\n",
       "</style>\n",
       "<table border=\"1\" class=\"dataframe\">\n",
       "  <thead>\n",
       "    <tr style=\"text-align: right;\">\n",
       "      <th></th>\n",
       "      <th>age</th>\n",
       "      <th>gender</th>\n",
       "      <th>height</th>\n",
       "      <th>weight</th>\n",
       "      <th>ap_hi</th>\n",
       "      <th>ap_lo</th>\n",
       "      <th>smoke</th>\n",
       "      <th>alco</th>\n",
       "      <th>active</th>\n",
       "      <th>cardio</th>\n",
       "      <th>cholesterol_above normal</th>\n",
       "      <th>cholesterol_normal</th>\n",
       "      <th>cholesterol_well above normal</th>\n",
       "      <th>gluc_above normal</th>\n",
       "      <th>gluc_normal</th>\n",
       "      <th>gluc_well above normal</th>\n",
       "    </tr>\n",
       "  </thead>\n",
       "  <tbody>\n",
       "    <tr>\n",
       "      <th>0</th>\n",
       "      <td>61</td>\n",
       "      <td>0</td>\n",
       "      <td>155</td>\n",
       "      <td>69.0</td>\n",
       "      <td>130</td>\n",
       "      <td>80</td>\n",
       "      <td>0</td>\n",
       "      <td>0</td>\n",
       "      <td>1</td>\n",
       "      <td>0</td>\n",
       "      <td>1</td>\n",
       "      <td>0</td>\n",
       "      <td>0</td>\n",
       "      <td>1</td>\n",
       "      <td>0</td>\n",
       "      <td>0</td>\n",
       "    </tr>\n",
       "    <tr>\n",
       "      <th>1</th>\n",
       "      <td>40</td>\n",
       "      <td>0</td>\n",
       "      <td>163</td>\n",
       "      <td>71.0</td>\n",
       "      <td>110</td>\n",
       "      <td>70</td>\n",
       "      <td>0</td>\n",
       "      <td>0</td>\n",
       "      <td>1</td>\n",
       "      <td>1</td>\n",
       "      <td>0</td>\n",
       "      <td>1</td>\n",
       "      <td>0</td>\n",
       "      <td>0</td>\n",
       "      <td>1</td>\n",
       "      <td>0</td>\n",
       "    </tr>\n",
       "    <tr>\n",
       "      <th>2</th>\n",
       "      <td>60</td>\n",
       "      <td>0</td>\n",
       "      <td>165</td>\n",
       "      <td>70.0</td>\n",
       "      <td>120</td>\n",
       "      <td>80</td>\n",
       "      <td>0</td>\n",
       "      <td>0</td>\n",
       "      <td>1</td>\n",
       "      <td>0</td>\n",
       "      <td>0</td>\n",
       "      <td>1</td>\n",
       "      <td>0</td>\n",
       "      <td>0</td>\n",
       "      <td>1</td>\n",
       "      <td>0</td>\n",
       "    </tr>\n",
       "    <tr>\n",
       "      <th>3</th>\n",
       "      <td>39</td>\n",
       "      <td>1</td>\n",
       "      <td>165</td>\n",
       "      <td>85.0</td>\n",
       "      <td>120</td>\n",
       "      <td>80</td>\n",
       "      <td>1</td>\n",
       "      <td>1</td>\n",
       "      <td>1</td>\n",
       "      <td>0</td>\n",
       "      <td>0</td>\n",
       "      <td>1</td>\n",
       "      <td>0</td>\n",
       "      <td>0</td>\n",
       "      <td>1</td>\n",
       "      <td>0</td>\n",
       "    </tr>\n",
       "    <tr>\n",
       "      <th>4</th>\n",
       "      <td>64</td>\n",
       "      <td>0</td>\n",
       "      <td>155</td>\n",
       "      <td>62.0</td>\n",
       "      <td>120</td>\n",
       "      <td>80</td>\n",
       "      <td>0</td>\n",
       "      <td>0</td>\n",
       "      <td>1</td>\n",
       "      <td>0</td>\n",
       "      <td>0</td>\n",
       "      <td>1</td>\n",
       "      <td>0</td>\n",
       "      <td>0</td>\n",
       "      <td>1</td>\n",
       "      <td>0</td>\n",
       "    </tr>\n",
       "    <tr>\n",
       "      <th>...</th>\n",
       "      <td>...</td>\n",
       "      <td>...</td>\n",
       "      <td>...</td>\n",
       "      <td>...</td>\n",
       "      <td>...</td>\n",
       "      <td>...</td>\n",
       "      <td>...</td>\n",
       "      <td>...</td>\n",
       "      <td>...</td>\n",
       "      <td>...</td>\n",
       "      <td>...</td>\n",
       "      <td>...</td>\n",
       "      <td>...</td>\n",
       "      <td>...</td>\n",
       "      <td>...</td>\n",
       "      <td>...</td>\n",
       "    </tr>\n",
       "    <tr>\n",
       "      <th>69296</th>\n",
       "      <td>52</td>\n",
       "      <td>1</td>\n",
       "      <td>168</td>\n",
       "      <td>76.0</td>\n",
       "      <td>120</td>\n",
       "      <td>80</td>\n",
       "      <td>1</td>\n",
       "      <td>0</td>\n",
       "      <td>1</td>\n",
       "      <td>0</td>\n",
       "      <td>0</td>\n",
       "      <td>1</td>\n",
       "      <td>0</td>\n",
       "      <td>0</td>\n",
       "      <td>1</td>\n",
       "      <td>0</td>\n",
       "    </tr>\n",
       "    <tr>\n",
       "      <th>69297</th>\n",
       "      <td>61</td>\n",
       "      <td>0</td>\n",
       "      <td>158</td>\n",
       "      <td>126.0</td>\n",
       "      <td>140</td>\n",
       "      <td>90</td>\n",
       "      <td>0</td>\n",
       "      <td>0</td>\n",
       "      <td>1</td>\n",
       "      <td>1</td>\n",
       "      <td>1</td>\n",
       "      <td>0</td>\n",
       "      <td>0</td>\n",
       "      <td>1</td>\n",
       "      <td>0</td>\n",
       "      <td>0</td>\n",
       "    </tr>\n",
       "    <tr>\n",
       "      <th>69298</th>\n",
       "      <td>52</td>\n",
       "      <td>1</td>\n",
       "      <td>183</td>\n",
       "      <td>105.0</td>\n",
       "      <td>180</td>\n",
       "      <td>90</td>\n",
       "      <td>0</td>\n",
       "      <td>1</td>\n",
       "      <td>0</td>\n",
       "      <td>1</td>\n",
       "      <td>0</td>\n",
       "      <td>0</td>\n",
       "      <td>1</td>\n",
       "      <td>0</td>\n",
       "      <td>1</td>\n",
       "      <td>0</td>\n",
       "    </tr>\n",
       "    <tr>\n",
       "      <th>69299</th>\n",
       "      <td>61</td>\n",
       "      <td>0</td>\n",
       "      <td>163</td>\n",
       "      <td>72.0</td>\n",
       "      <td>135</td>\n",
       "      <td>80</td>\n",
       "      <td>0</td>\n",
       "      <td>0</td>\n",
       "      <td>0</td>\n",
       "      <td>1</td>\n",
       "      <td>0</td>\n",
       "      <td>1</td>\n",
       "      <td>0</td>\n",
       "      <td>1</td>\n",
       "      <td>0</td>\n",
       "      <td>0</td>\n",
       "    </tr>\n",
       "    <tr>\n",
       "      <th>69300</th>\n",
       "      <td>56</td>\n",
       "      <td>0</td>\n",
       "      <td>170</td>\n",
       "      <td>72.0</td>\n",
       "      <td>120</td>\n",
       "      <td>80</td>\n",
       "      <td>0</td>\n",
       "      <td>0</td>\n",
       "      <td>1</td>\n",
       "      <td>0</td>\n",
       "      <td>1</td>\n",
       "      <td>0</td>\n",
       "      <td>0</td>\n",
       "      <td>0</td>\n",
       "      <td>1</td>\n",
       "      <td>0</td>\n",
       "    </tr>\n",
       "  </tbody>\n",
       "</table>\n",
       "<p>69301 rows × 16 columns</p>\n",
       "</div>"
      ],
      "text/plain": [
       "       age  gender  height  weight  ap_hi  ap_lo  smoke  alco  active  cardio  \\\n",
       "0       61       0     155    69.0    130     80      0     0       1       0   \n",
       "1       40       0     163    71.0    110     70      0     0       1       1   \n",
       "2       60       0     165    70.0    120     80      0     0       1       0   \n",
       "3       39       1     165    85.0    120     80      1     1       1       0   \n",
       "4       64       0     155    62.0    120     80      0     0       1       0   \n",
       "...    ...     ...     ...     ...    ...    ...    ...   ...     ...     ...   \n",
       "69296   52       1     168    76.0    120     80      1     0       1       0   \n",
       "69297   61       0     158   126.0    140     90      0     0       1       1   \n",
       "69298   52       1     183   105.0    180     90      0     1       0       1   \n",
       "69299   61       0     163    72.0    135     80      0     0       0       1   \n",
       "69300   56       0     170    72.0    120     80      0     0       1       0   \n",
       "\n",
       "       cholesterol_above normal  cholesterol_normal  \\\n",
       "0                             1                   0   \n",
       "1                             0                   1   \n",
       "2                             0                   1   \n",
       "3                             0                   1   \n",
       "4                             0                   1   \n",
       "...                         ...                 ...   \n",
       "69296                         0                   1   \n",
       "69297                         1                   0   \n",
       "69298                         0                   0   \n",
       "69299                         0                   1   \n",
       "69300                         1                   0   \n",
       "\n",
       "       cholesterol_well above normal  gluc_above normal  gluc_normal  \\\n",
       "0                                  0                  1            0   \n",
       "1                                  0                  0            1   \n",
       "2                                  0                  0            1   \n",
       "3                                  0                  0            1   \n",
       "4                                  0                  0            1   \n",
       "...                              ...                ...          ...   \n",
       "69296                              0                  0            1   \n",
       "69297                              0                  1            0   \n",
       "69298                              1                  0            1   \n",
       "69299                              0                  1            0   \n",
       "69300                              0                  0            1   \n",
       "\n",
       "       gluc_well above normal  \n",
       "0                           0  \n",
       "1                           0  \n",
       "2                           0  \n",
       "3                           0  \n",
       "4                           0  \n",
       "...                       ...  \n",
       "69296                       0  \n",
       "69297                       0  \n",
       "69298                       0  \n",
       "69299                       0  \n",
       "69300                       0  \n",
       "\n",
       "[69301 rows x 16 columns]"
      ]
     },
     "execution_count": 7,
     "metadata": {},
     "output_type": "execute_result"
    }
   ],
   "source": [
    "df_ohe = pd.get_dummies(df)\n",
    "df_ohe"
   ]
  },
  {
   "cell_type": "markdown",
   "metadata": {},
   "source": [
    "결과 값 y에 해당하는 cardio와 나머지 변수에 해당하는 컬럼들을 분리"
   ]
  },
  {
   "cell_type": "code",
   "execution_count": 8,
   "metadata": {},
   "outputs": [],
   "source": [
    "label = df_ohe.pop('cardio')\n",
    "df_ohe = pd.concat([df_ohe, label], axis = 1)\n",
    "X_ohe = df_ohe.iloc[:, :-1]\n",
    "y_ohe = df_ohe.iloc[:, -1]"
   ]
  },
  {
   "cell_type": "markdown",
   "metadata": {},
   "source": [
    "<a id='1'></a>"
   ]
  },
  {
   "cell_type": "markdown",
   "metadata": {},
   "source": [
    "## [1. train과 test를 8:2로 나눠주세요.](#0)"
   ]
  },
  {
   "cell_type": "markdown",
   "metadata": {},
   "source": [
    "위에서 전처리 후 생성한 X_ohe와 y_ohe을 train_test_split() 함수를 통해 8:2로 나눔"
   ]
  },
  {
   "cell_type": "code",
   "execution_count": 9,
   "metadata": {},
   "outputs": [],
   "source": [
    "from sklearn.model_selection import train_test_split\n",
    "\n",
    "X_train, X_test, y_train, y_test = train_test_split(X_ohe,\n",
    "                                                    y_ohe,\n",
    "                                                    test_size=0.2,\n",
    "                                                    random_state= 1000)"
   ]
  },
  {
   "cell_type": "markdown",
   "metadata": {},
   "source": [
    "<a id='2'></a>"
   ]
  },
  {
   "cell_type": "markdown",
   "metadata": {},
   "source": [
    "## [2. train에 대해서 로지스틱 모델을 학습시키고 모델을 평가해주세요.](#0)"
   ]
  },
  {
   "cell_type": "code",
   "execution_count": 10,
   "metadata": {},
   "outputs": [
    {
     "name": "stderr",
     "output_type": "stream",
     "text": [
      "C:\\Users\\PIAI\\anaconda3\\lib\\site-packages\\sklearn\\linear_model\\_logistic.py:762: ConvergenceWarning: lbfgs failed to converge (status=1):\n",
      "STOP: TOTAL NO. of ITERATIONS REACHED LIMIT.\n",
      "\n",
      "Increase the number of iterations (max_iter) or scale the data as shown in:\n",
      "    https://scikit-learn.org/stable/modules/preprocessing.html\n",
      "Please also refer to the documentation for alternative solver options:\n",
      "    https://scikit-learn.org/stable/modules/linear_model.html#logistic-regression\n",
      "  n_iter_i = _check_optimize_result(\n"
     ]
    },
    {
     "data": {
      "text/plain": [
       "LogisticRegression()"
      ]
     },
     "execution_count": 10,
     "metadata": {},
     "output_type": "execute_result"
    }
   ],
   "source": [
    "from sklearn.linear_model import LogisticRegression\n",
    "from sklearn.metrics import accuracy_score, recall_score, precision_score, f1_score\n",
    "\n",
    "logistic = LogisticRegression()\n",
    "logistic.fit(X_train, y_train)"
   ]
  },
  {
   "cell_type": "code",
   "execution_count": 11,
   "metadata": {},
   "outputs": [
    {
     "name": "stdout",
     "output_type": "stream",
     "text": [
      "Train Data\n",
      "정확도:  0.709\n",
      "Test Data\n",
      "정확도:  0.71\n"
     ]
    }
   ],
   "source": [
    "train_pred = logistic.predict(X_train)\n",
    "test_pred = logistic.predict(X_test)\n",
    "\n",
    "print('Train Data')\n",
    "print('정확도: ', round(accuracy_score(y_train, train_pred),3))\n",
    "print('Test Data')\n",
    "print('정확도: ', round(accuracy_score(y_test, test_pred),3))"
   ]
  },
  {
   "cell_type": "markdown",
   "metadata": {},
   "source": [
    "로지스틱 회귀 모델의 accuracy는 Train set에서의 결과보다 Test set에서의 결과가 더 좋게 나왔으며 정확도는 0.71이다."
   ]
  },
  {
   "cell_type": "markdown",
   "metadata": {},
   "source": [
    "<a id='3'></a>"
   ]
  },
  {
   "cell_type": "markdown",
   "metadata": {},
   "source": [
    "## [3. train에 대해서 트리 모델을 학습시키고 모델을 평가해주세요.](#0)"
   ]
  },
  {
   "cell_type": "code",
   "execution_count": 12,
   "metadata": {},
   "outputs": [
    {
     "data": {
      "text/plain": [
       "DecisionTreeClassifier()"
      ]
     },
     "execution_count": 12,
     "metadata": {},
     "output_type": "execute_result"
    }
   ],
   "source": [
    "from sklearn.tree import DecisionTreeClassifier\n",
    "from sklearn.metrics import accuracy_score, recall_score, precision_score, f1_score\n",
    "\n",
    "tree = DecisionTreeClassifier()\n",
    "tree.fit(X_train,y_train)"
   ]
  },
  {
   "cell_type": "code",
   "execution_count": 13,
   "metadata": {},
   "outputs": [],
   "source": [
    "train_pred_tree = tree.predict(X_train)\n",
    "test_pred_tree = tree.predict(X_test)"
   ]
  },
  {
   "cell_type": "code",
   "execution_count": 14,
   "metadata": {},
   "outputs": [
    {
     "name": "stdout",
     "output_type": "stream",
     "text": [
      "Train Data\n",
      "정확도:  0.981\n",
      "Test Data\n",
      "정확도:  0.633\n"
     ]
    }
   ],
   "source": [
    "print('Train Data')\n",
    "print('정확도: ', round(accuracy_score(y_train, train_pred_tree),3))\n",
    "print('Test Data')\n",
    "print('정확도: ', round(accuracy_score(y_test, test_pred_tree),3))"
   ]
  },
  {
   "cell_type": "markdown",
   "metadata": {},
   "source": [
    "Train Data에서는 0.981이라는 높은 정확도를 보여주지만 Test Data에서 0.636의 낮은 정확도를 보여준다.  \n",
    "복잡한 트리는 기존에 있는 데이터들은 잘 예측하나, 새로운 데이터는 잘 예측하지 못하고 있음을 보여주는 예이다.  \n",
    "그래서 적당한 가지에서 잘라내야한다. (pruning)"
   ]
  },
  {
   "cell_type": "code",
   "execution_count": 15,
   "metadata": {},
   "outputs": [
    {
     "data": {
      "text/plain": [
       "DecisionTreeClassifier(max_depth=5)"
      ]
     },
     "execution_count": 15,
     "metadata": {},
     "output_type": "execute_result"
    }
   ],
   "source": [
    "from sklearn.model_selection import cross_val_score\n",
    "\n",
    "# max_depth를 5으로 설정\n",
    "trimed_tree = DecisionTreeClassifier(max_depth = 5)\n",
    "trimed_tree.fit(X_train,y_train)"
   ]
  },
  {
   "cell_type": "code",
   "execution_count": 16,
   "metadata": {},
   "outputs": [
    {
     "name": "stdout",
     "output_type": "stream",
     "text": [
      "교차 검증 점수: [0.73466811 0.72763348 0.72402597 0.73511905 0.72907648]\n",
      "교차 검증 평균 점수: 0.73\n"
     ]
    }
   ],
   "source": [
    "train_pred_trimed = trimed_tree.predict(X_train)\n",
    "test_pred_trimed = trimed_tree.predict(X_test)\n",
    "\n",
    "cv_tree = DecisionTreeClassifier(max_depth = 5)\n",
    "cv_score_tree = cross_val_score(cv_tree, X_train, y_train, cv=5, scoring=\"accuracy\")\n",
    "\n",
    "print(f\"교차 검증 점수: {cv_score_tree}\".format(cv_score_tree.mean()))\n",
    "print(\"교차 검증 평균 점수: {:.2f}\".format(cv_score_tree.mean()))"
   ]
  },
  {
   "cell_type": "code",
   "execution_count": 17,
   "metadata": {},
   "outputs": [
    {
     "name": "stdout",
     "output_type": "stream",
     "text": [
      "Train Data\n",
      "정확도:  0.732\n",
      "Test Data\n",
      "정확도:  0.732\n"
     ]
    }
   ],
   "source": [
    "print('Train Data')\n",
    "print('정확도: ', round(accuracy_score(y_train, train_pred_trimed),3))\n",
    "print('Test Data')\n",
    "print('정확도: ', round(accuracy_score(y_test, test_pred_trimed),3))"
   ]
  },
  {
   "cell_type": "markdown",
   "metadata": {},
   "source": [
    "criterion = 'entropy' 설정의 경우,"
   ]
  },
  {
   "cell_type": "code",
   "execution_count": 18,
   "metadata": {},
   "outputs": [
    {
     "data": {
      "text/plain": [
       "DecisionTreeClassifier(criterion='entropy', max_depth=5)"
      ]
     },
     "execution_count": 18,
     "metadata": {},
     "output_type": "execute_result"
    }
   ],
   "source": [
    "tree_entropy = DecisionTreeClassifier(criterion = 'entropy', max_depth=5)\n",
    "tree_entropy.fit(X_train,y_train)"
   ]
  },
  {
   "cell_type": "code",
   "execution_count": 19,
   "metadata": {},
   "outputs": [
    {
     "name": "stdout",
     "output_type": "stream",
     "text": [
      "Train Data\n",
      "정확도:  0.732\n",
      "Test Data\n",
      "정확도:  0.732\n"
     ]
    }
   ],
   "source": [
    "train_pred_entropy = tree_entropy.predict(X_train)\n",
    "test_pred_entropy = tree_entropy.predict(X_test)\n",
    "\n",
    "print('Train Data')\n",
    "print('정확도: ', round(accuracy_score(y_train, train_pred_entropy),3))\n",
    "print('Test Data')\n",
    "print('정확도: ', round(accuracy_score(y_test, test_pred_entropy),3))"
   ]
  },
  {
   "cell_type": "markdown",
   "metadata": {},
   "source": [
    "<a id='4'></a>"
   ]
  },
  {
   "cell_type": "markdown",
   "metadata": {},
   "source": [
    "## [4. train에 대해서 랜덤 포레스트 모델을 학습시키고 모델을 평가해주세요.](#0)"
   ]
  },
  {
   "cell_type": "code",
   "execution_count": 20,
   "metadata": {},
   "outputs": [
    {
     "data": {
      "text/plain": [
       "RandomForestClassifier()"
      ]
     },
     "execution_count": 20,
     "metadata": {},
     "output_type": "execute_result"
    }
   ],
   "source": [
    "from sklearn.ensemble import RandomForestClassifier\n",
    "\n",
    "randomforest = RandomForestClassifier()\n",
    "randomforest.fit(X_train, y_train)"
   ]
  },
  {
   "cell_type": "code",
   "execution_count": 21,
   "metadata": {},
   "outputs": [
    {
     "name": "stdout",
     "output_type": "stream",
     "text": [
      "Train Data\n",
      "정확도:  0.981\n",
      "Test Data\n",
      "정확도:  0.706\n"
     ]
    }
   ],
   "source": [
    "train_pred_randomforest = randomforest.predict(X_train)\n",
    "test_pred_randomforest = randomforest.predict(X_test)\n",
    "\n",
    "print('Train Data')\n",
    "print('정확도: ', round(accuracy_score(y_train, train_pred_randomforest),3))\n",
    "print('Test Data')\n",
    "print('정확도: ', round(accuracy_score(y_test, test_pred_randomforest),3))"
   ]
  },
  {
   "cell_type": "code",
   "execution_count": 23,
   "metadata": {},
   "outputs": [
    {
     "name": "stdout",
     "output_type": "stream",
     "text": [
      "특성 중요도 :  [0.17295709 0.01469541 0.21144419 0.23577921 0.18284243 0.10024644\n",
      " 0.00904789 0.00762579 0.01356779 0.00536109 0.01626281 0.01605335\n",
      " 0.00399384 0.00597225 0.00415043]\n"
     ]
    }
   ],
   "source": [
    "print(\"특성 중요도 : \",randomforest.feature_importances_)"
   ]
  },
  {
   "cell_type": "code",
   "execution_count": 24,
   "metadata": {},
   "outputs": [
    {
     "data": {
      "image/png": "[encoded data removed]",
      "text/plain": [
       "<Figure size 432x288 with 1 Axes>"
      ]
     },
     "metadata": {
      "needs_background": "light"
     },
     "output_type": "display_data"
    }
   ],
   "source": [
    "import matplotlib.pyplot as plt\n",
    "\n",
    "aa = df_ohe.iloc[:,:-1]\n",
    "\n",
    "n_feature = aa.shape[1]\n",
    "index = np.arange(n_feature)\n",
    "\n",
    "plt.barh(index, randomforest.feature_importances_, align='center')\n",
    "plt.yticks(index, aa.columns)\n",
    "plt.ylim(-1, n_feature)\n",
    "plt.xlabel('feature importance', size=15)\n",
    "plt.ylabel('feature', size=15)\n",
    "plt.show()"
   ]
  },
  {
   "cell_type": "markdown",
   "metadata": {},
   "source": [
    "시각화 결과 ap_hi, weight, height, age 네 가지 요소가 모델에 가장 큰 영향을 미치는 것으로 나타난다."
   ]
  },
  {
   "cell_type": "markdown",
   "metadata": {},
   "source": [
    "최적의 parameter를 탐색한다."
   ]
  },
  {
   "cell_type": "code",
   "execution_count": 25,
   "metadata": {},
   "outputs": [
    {
     "name": "stdout",
     "output_type": "stream",
     "text": [
      "time : 972.0451776981354\n"
     ]
    }
   ],
   "source": [
    "from sklearn.model_selection import GridSearchCV\n",
    "import time\n",
    "\n",
    "start = time.time()  # 시작 시간 저장\n",
    "\n",
    "param_grid = [\n",
    "    {'n_estimators': [100,200,300,400,500], 'max_features': ['auto', 'log2'], 'max_depth': [3, 5, 10]},\n",
    "  ]\n",
    "\n",
    "randomforest_grid = RandomForestClassifier(random_state=1000)\n",
    "\n",
    "grid_search = GridSearchCV(randomforest_grid, param_grid, cv=5,\n",
    "                           scoring='accuracy',\n",
    "                           return_train_score=True)\n",
    "grid_search.fit(X_train, y_train)\n",
    "\n",
    "print(\"time :\", time.time() - start)  # 실행 시간 = 현재시각 - 시작시간 "
   ]
  },
  {
   "cell_type": "code",
   "execution_count": 26,
   "metadata": {
    "scrolled": true
   },
   "outputs": [
    {
     "name": "stdout",
     "output_type": "stream",
     "text": [
      "{'max_depth': 10, 'max_features': 'auto', 'n_estimators': 500}\n",
      "RandomForestClassifier(max_depth=10, n_estimators=500, random_state=1000)\n"
     ]
    }
   ],
   "source": [
    "print(grid_search.best_params_)\n",
    "print(grid_search.best_estimator_)"
   ]
  },
  {
   "cell_type": "markdown",
   "metadata": {},
   "source": [
    "찾은 최적의 parameter를 넣어서 RandomForestClassifier 모델을 생성한다."
   ]
  },
  {
   "cell_type": "code",
   "execution_count": 27,
   "metadata": {},
   "outputs": [
    {
     "data": {
      "text/plain": [
       "RandomForestClassifier(max_depth=10, n_estimators=500, n_jobs=-1,\n",
       "                       random_state=1000)"
      ]
     },
     "execution_count": 27,
     "metadata": {},
     "output_type": "execute_result"
    }
   ],
   "source": [
    "randomforest_best = RandomForestClassifier(n_estimators=500, max_features='auto', random_state=1000, n_jobs = -1, max_depth=10)\n",
    "randomforest_best.fit(X_train,y_train)"
   ]
  },
  {
   "cell_type": "code",
   "execution_count": 28,
   "metadata": {},
   "outputs": [
    {
     "name": "stdout",
     "output_type": "stream",
     "text": [
      "Train Data\n",
      "정확도:  0.75\n",
      "Test Data\n",
      "정확도:  0.735\n"
     ]
    }
   ],
   "source": [
    "train_pred_randomforest_best = randomforest_best.predict(X_train)\n",
    "test_pred_randomforest_best = randomforest_best.predict(X_test)\n",
    "\n",
    "print('Train Data')\n",
    "print('정확도: ', round(accuracy_score(y_train, train_pred_randomforest_best),3))\n",
    "print('Test Data')\n",
    "print('정확도: ', round(accuracy_score(y_test, test_pred_randomforest_best),3))"
   ]
  },
  {
   "cell_type": "code",
   "execution_count": 29,
   "metadata": {},
   "outputs": [
    {
     "name": "stdout",
     "output_type": "stream",
     "text": [
      "특성 중요도 :  [0.11776411 0.00503284 0.02741118 0.05627296 0.45431454 0.19676173\n",
      " 0.00532536 0.00430548 0.0085206  0.01045348 0.0466487  0.0504943\n",
      " 0.00321514 0.00790869 0.0055709 ]\n"
     ]
    }
   ],
   "source": [
    "print(\"특성 중요도 : \",randomforest_best.feature_importances_)"
   ]
  },
  {
   "cell_type": "code",
   "execution_count": 30,
   "metadata": {},
   "outputs": [
    {
     "data": {
      "image/png": "[encoded data removed]",
      "text/plain": [
       "<Figure size 432x288 with 1 Axes>"
      ]
     },
     "metadata": {
      "needs_background": "light"
     },
     "output_type": "display_data"
    }
   ],
   "source": [
    "import matplotlib.pyplot as plt\n",
    "\n",
    "aa = df_ohe.iloc[:,:-1]\n",
    "\n",
    "n_feature = aa.shape[1]\n",
    "index = np.arange(n_feature)\n",
    "\n",
    "plt.barh(index, randomforest_best.feature_importances_, align='center')\n",
    "plt.yticks(index, aa.columns)\n",
    "plt.ylim(-1, n_feature)\n",
    "plt.xlabel('feature importance', size=15)\n",
    "plt.ylabel('feature', size=15)\n",
    "plt.show()"
   ]
  },
  {
   "cell_type": "markdown",
   "metadata": {},
   "source": [
    "최적의 parameter로 학습한 모델의 결과, 모델의에 가장 큰 영향을 주는 요소는 ap_hi이고 그 다음으로 ap_lo와 age로 확인할 수 있다."
   ]
  },
  {
   "cell_type": "markdown",
   "metadata": {},
   "source": [
    "## [5. 트리 모델과 랜덤 포레스트 모델의 성능을 비교하고 왜 그런 차이가 났는 지 설명하세요.](#0)"
   ]
  },
  {
   "cell_type": "markdown",
   "metadata": {},
   "source": [
    "결과적으로 각각의 모델에서 가장 좋은 결과는 다음과 같다.  \n",
    "트리 모델을 사용했을 때의 Accuracy는 0.732  \n",
    "랜덤 포레스트를 사용했을 때의 Accuracy는 0.735  \n",
    "\n",
    "랜덤 포레스트의 경우, 최적의 parameter를 찾아서 학습한 모델이 트리 모델보다 정확도가 조금 더 높게 나왔다.  \n",
    "max_depth를 설정하지 않았을 경우, 앙상블 모델인 랜덤포레스트가 다수의 의사결정 트리를 만들고 결과를 나타내기 때문에  \n",
    "확실히 오버피팅을 방지하여 Test set에 대한 정확도가 더 높게 나왔다.  \n",
    "그러나 똑같이 max_depth를 어느정도 설정했을 때에는 두 모델의 정확도 차이가 거의 나지 않음을 확인 할 수 있었다."
   ]
  },
  {
   "cell_type": "code",
   "execution_count": null,
   "metadata": {},
   "outputs": [],
   "source": []
  }
 ],
 "metadata": {
  "kernelspec": {
   "display_name": "Python 3",
   "language": "python",
   "name": "python3"
  },
  "language_info": {
   "codemirror_mode": {
    "name": "ipython",
    "version": 3
   },
   "file_extension": ".py",
   "mimetype": "text/x-python",
   "name": "python",
   "nbconvert_exporter": "python",
   "pygments_lexer": "ipython3",
   "version": "3.8.5"
  }
 },
 "nbformat": 4,
 "nbformat_minor": 4
}
